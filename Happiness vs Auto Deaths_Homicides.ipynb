{
 "cells": [
  {
   "cell_type": "code",
   "execution_count": 1,
   "metadata": {},
   "outputs": [],
   "source": [
    "# Dependencies and Setup\n",
    "import matplotlib.pyplot as plt\n",
    "import pandas as pd\n",
    "import numpy as np\n",
    "import requests\n",
    "import time\n",
    "from scipy.stats import linregress"
   ]
  },
  {
   "cell_type": "code",
   "execution_count": 2,
   "metadata": {},
   "outputs": [
    {
     "data": {
      "text/html": [
       "<div>\n",
       "<style scoped>\n",
       "    .dataframe tbody tr th:only-of-type {\n",
       "        vertical-align: middle;\n",
       "    }\n",
       "\n",
       "    .dataframe tbody tr th {\n",
       "        vertical-align: top;\n",
       "    }\n",
       "\n",
       "    .dataframe thead th {\n",
       "        text-align: right;\n",
       "    }\n",
       "</style>\n",
       "<table border=\"1\" class=\"dataframe\">\n",
       "  <thead>\n",
       "    <tr style=\"text-align: right;\">\n",
       "      <th></th>\n",
       "      <th>Country</th>\n",
       "      <th>Region</th>\n",
       "      <th>Happiness Rank</th>\n",
       "      <th>Happiness Score</th>\n",
       "    </tr>\n",
       "  </thead>\n",
       "  <tbody>\n",
       "    <tr>\n",
       "      <th>0</th>\n",
       "      <td>Denmark</td>\n",
       "      <td>Western Europe</td>\n",
       "      <td>1</td>\n",
       "      <td>7.526</td>\n",
       "    </tr>\n",
       "    <tr>\n",
       "      <th>1</th>\n",
       "      <td>Switzerland</td>\n",
       "      <td>Western Europe</td>\n",
       "      <td>2</td>\n",
       "      <td>7.509</td>\n",
       "    </tr>\n",
       "    <tr>\n",
       "      <th>2</th>\n",
       "      <td>Iceland</td>\n",
       "      <td>Western Europe</td>\n",
       "      <td>3</td>\n",
       "      <td>7.501</td>\n",
       "    </tr>\n",
       "    <tr>\n",
       "      <th>3</th>\n",
       "      <td>Norway</td>\n",
       "      <td>Western Europe</td>\n",
       "      <td>4</td>\n",
       "      <td>7.498</td>\n",
       "    </tr>\n",
       "    <tr>\n",
       "      <th>4</th>\n",
       "      <td>Finland</td>\n",
       "      <td>Western Europe</td>\n",
       "      <td>5</td>\n",
       "      <td>7.413</td>\n",
       "    </tr>\n",
       "  </tbody>\n",
       "</table>\n",
       "</div>"
      ],
      "text/plain": [
       "       Country          Region  Happiness Rank  Happiness Score\n",
       "0      Denmark  Western Europe               1            7.526\n",
       "1  Switzerland  Western Europe               2            7.509\n",
       "2      Iceland  Western Europe               3            7.501\n",
       "3       Norway  Western Europe               4            7.498\n",
       "4      Finland  Western Europe               5            7.413"
      ]
     },
     "execution_count": 2,
     "metadata": {},
     "output_type": "execute_result"
    }
   ],
   "source": [
    "#Reading happiness data csv into a dataframe\n",
    "happiness_df = pd.read_csv('Happiness_Data.csv')\n",
    "\n",
    "#Dropping all columns that I will not be using in my analysis\n",
    "happiness_df.drop(happiness_df.iloc[:, 4:13], inplace = True, axis = 1)\n",
    "\n",
    "#Displaying dataframe to check for any errors in my columns\n",
    "happiness_df.head()"
   ]
  },
  {
   "cell_type": "code",
   "execution_count": 3,
   "metadata": {},
   "outputs": [
    {
     "data": {
      "text/html": [
       "<div>\n",
       "<style scoped>\n",
       "    .dataframe tbody tr th:only-of-type {\n",
       "        vertical-align: middle;\n",
       "    }\n",
       "\n",
       "    .dataframe tbody tr th {\n",
       "        vertical-align: top;\n",
       "    }\n",
       "\n",
       "    .dataframe thead th {\n",
       "        text-align: right;\n",
       "    }\n",
       "</style>\n",
       "<table border=\"1\" class=\"dataframe\">\n",
       "  <thead>\n",
       "    <tr style=\"text-align: right;\">\n",
       "      <th></th>\n",
       "      <th>Unnamed: 0</th>\n",
       "      <th>Estimated number of road traffic deaths</th>\n",
       "      <th>Estimated road traffic death rate (per 100 000 population)</th>\n",
       "    </tr>\n",
       "  </thead>\n",
       "  <tbody>\n",
       "    <tr>\n",
       "      <th>0</th>\n",
       "      <td>Country</td>\n",
       "      <td>2013</td>\n",
       "      <td>2016.0</td>\n",
       "    </tr>\n",
       "    <tr>\n",
       "      <th>1</th>\n",
       "      <td>Afghanistan</td>\n",
       "      <td>4 734 [4 006 - 5 461]</td>\n",
       "      <td>15.1</td>\n",
       "    </tr>\n",
       "    <tr>\n",
       "      <th>2</th>\n",
       "      <td>Albania</td>\n",
       "      <td>478 [435 - 521]</td>\n",
       "      <td>13.6</td>\n",
       "    </tr>\n",
       "    <tr>\n",
       "      <th>3</th>\n",
       "      <td>Algeria</td>\n",
       "      <td>9 337 [7 985 - 10 689]</td>\n",
       "      <td>NaN</td>\n",
       "    </tr>\n",
       "    <tr>\n",
       "      <th>4</th>\n",
       "      <td>Andorra</td>\n",
       "      <td>6</td>\n",
       "      <td>NaN</td>\n",
       "    </tr>\n",
       "  </tbody>\n",
       "</table>\n",
       "</div>"
      ],
      "text/plain": [
       "    Unnamed: 0 Estimated number of road traffic deaths  \\\n",
       "0      Country                                    2013   \n",
       "1  Afghanistan                   4 734 [4 006 - 5 461]   \n",
       "2      Albania                         478 [435 - 521]   \n",
       "3      Algeria                  9 337 [7 985 - 10 689]   \n",
       "4      Andorra                                       6   \n",
       "\n",
       "   Estimated road traffic death rate (per 100 000 population)  \n",
       "0                                             2016.0           \n",
       "1                                               15.1           \n",
       "2                                               13.6           \n",
       "3                                                NaN           \n",
       "4                                                NaN           "
      ]
     },
     "execution_count": 3,
     "metadata": {},
     "output_type": "execute_result"
    }
   ],
   "source": [
    "#Reading happiness data csv into a dataframe\n",
    "AutoD_df = pd.read_csv('Road_Deaths.csv')\n",
    "\n",
    "#Dropping an older year's data\n",
    "AutoD_df = AutoD_df.drop(['Estimated road traffic death rate (per 100 000 population).1'], axis=1)\n",
    "\n",
    "AutoD_df.head()"
   ]
  },
  {
   "cell_type": "code",
   "execution_count": 4,
   "metadata": {},
   "outputs": [
    {
     "data": {
      "text/html": [
       "<div>\n",
       "<style scoped>\n",
       "    .dataframe tbody tr th:only-of-type {\n",
       "        vertical-align: middle;\n",
       "    }\n",
       "\n",
       "    .dataframe tbody tr th {\n",
       "        vertical-align: top;\n",
       "    }\n",
       "\n",
       "    .dataframe thead th {\n",
       "        text-align: right;\n",
       "    }\n",
       "</style>\n",
       "<table border=\"1\" class=\"dataframe\">\n",
       "  <thead>\n",
       "    <tr style=\"text-align: right;\">\n",
       "      <th></th>\n",
       "      <th>Country</th>\n",
       "      <th>Estimated number of road traffic deaths</th>\n",
       "      <th>Auto Deaths Per Capita (per 100,000)</th>\n",
       "    </tr>\n",
       "  </thead>\n",
       "  <tbody>\n",
       "    <tr>\n",
       "      <th>0</th>\n",
       "      <td>Country</td>\n",
       "      <td>2013</td>\n",
       "      <td>2016.0</td>\n",
       "    </tr>\n",
       "    <tr>\n",
       "      <th>1</th>\n",
       "      <td>Afghanistan</td>\n",
       "      <td>4 734 [4 006 - 5 461]</td>\n",
       "      <td>15.1</td>\n",
       "    </tr>\n",
       "    <tr>\n",
       "      <th>2</th>\n",
       "      <td>Albania</td>\n",
       "      <td>478 [435 - 521]</td>\n",
       "      <td>13.6</td>\n",
       "    </tr>\n",
       "    <tr>\n",
       "      <th>3</th>\n",
       "      <td>Algeria</td>\n",
       "      <td>9 337 [7 985 - 10 689]</td>\n",
       "      <td>NaN</td>\n",
       "    </tr>\n",
       "    <tr>\n",
       "      <th>4</th>\n",
       "      <td>Andorra</td>\n",
       "      <td>6</td>\n",
       "      <td>NaN</td>\n",
       "    </tr>\n",
       "  </tbody>\n",
       "</table>\n",
       "</div>"
      ],
      "text/plain": [
       "       Country Estimated number of road traffic deaths  \\\n",
       "0      Country                                    2013   \n",
       "1  Afghanistan                   4 734 [4 006 - 5 461]   \n",
       "2      Albania                         478 [435 - 521]   \n",
       "3      Algeria                  9 337 [7 985 - 10 689]   \n",
       "4      Andorra                                       6   \n",
       "\n",
       "   Auto Deaths Per Capita (per 100,000)  \n",
       "0                                2016.0  \n",
       "1                                  15.1  \n",
       "2                                  13.6  \n",
       "3                                   NaN  \n",
       "4                                   NaN  "
      ]
     },
     "execution_count": 4,
     "metadata": {},
     "output_type": "execute_result"
    }
   ],
   "source": [
    "#Renaming the columns I'm using to make them more concise\n",
    "AutoD_df = AutoD_df.rename(columns={\"Unnamed: 0\": \"Country\", \"Estimated road traffic death rate (per 100 000 population)\": \"Auto Deaths Per Capita (per 100,000)\"})\n",
    "\n",
    "#Displaying dataframe\n",
    "AutoD_df.head()"
   ]
  },
  {
   "cell_type": "code",
   "execution_count": 5,
   "metadata": {},
   "outputs": [
    {
     "data": {
      "text/html": [
       "<div>\n",
       "<style scoped>\n",
       "    .dataframe tbody tr th:only-of-type {\n",
       "        vertical-align: middle;\n",
       "    }\n",
       "\n",
       "    .dataframe tbody tr th {\n",
       "        vertical-align: top;\n",
       "    }\n",
       "\n",
       "    .dataframe thead th {\n",
       "        text-align: right;\n",
       "    }\n",
       "</style>\n",
       "<table border=\"1\" class=\"dataframe\">\n",
       "  <thead>\n",
       "    <tr style=\"text-align: right;\">\n",
       "      <th></th>\n",
       "      <th>Country</th>\n",
       "      <th>Region</th>\n",
       "      <th>Happiness Rank</th>\n",
       "      <th>Happiness Score</th>\n",
       "      <th>Estimated number of road traffic deaths</th>\n",
       "      <th>Auto Deaths Per Capita (per 100,000)</th>\n",
       "    </tr>\n",
       "  </thead>\n",
       "  <tbody>\n",
       "    <tr>\n",
       "      <th>0</th>\n",
       "      <td>Denmark</td>\n",
       "      <td>Western Europe</td>\n",
       "      <td>1</td>\n",
       "      <td>7.526</td>\n",
       "      <td>196</td>\n",
       "      <td>4.0</td>\n",
       "    </tr>\n",
       "    <tr>\n",
       "      <th>1</th>\n",
       "      <td>Switzerland</td>\n",
       "      <td>Western Europe</td>\n",
       "      <td>2</td>\n",
       "      <td>7.509</td>\n",
       "      <td>269</td>\n",
       "      <td>2.7</td>\n",
       "    </tr>\n",
       "  </tbody>\n",
       "</table>\n",
       "</div>"
      ],
      "text/plain": [
       "       Country          Region  Happiness Rank  Happiness Score  \\\n",
       "0      Denmark  Western Europe               1            7.526   \n",
       "1  Switzerland  Western Europe               2            7.509   \n",
       "\n",
       "  Estimated number of road traffic deaths  \\\n",
       "0                                     196   \n",
       "1                                     269   \n",
       "\n",
       "   Auto Deaths Per Capita (per 100,000)  \n",
       "0                                   4.0  \n",
       "1                                   2.7  "
      ]
     },
     "execution_count": 5,
     "metadata": {},
     "output_type": "execute_result"
    }
   ],
   "source": [
    "#Merging the happiness data with the auto death data\n",
    "\n",
    "ad_hap_merge = pd.merge(happiness_df, AutoD_df, on= \"Country\")\n",
    "\n",
    "#Showing dataframe to see if the merge worked and what the data looks like combined\n",
    "ad_hap_merge.head(2)"
   ]
  },
  {
   "cell_type": "code",
   "execution_count": 6,
   "metadata": {},
   "outputs": [
    {
     "data": {
      "text/html": [
       "<div>\n",
       "<style scoped>\n",
       "    .dataframe tbody tr th:only-of-type {\n",
       "        vertical-align: middle;\n",
       "    }\n",
       "\n",
       "    .dataframe tbody tr th {\n",
       "        vertical-align: top;\n",
       "    }\n",
       "\n",
       "    .dataframe thead th {\n",
       "        text-align: right;\n",
       "    }\n",
       "</style>\n",
       "<table border=\"1\" class=\"dataframe\">\n",
       "  <thead>\n",
       "    <tr style=\"text-align: right;\">\n",
       "      <th></th>\n",
       "      <th>Unnamed: 0</th>\n",
       "      <th>Estimates of rates of homicides per 100 000 population</th>\n",
       "      <th>Estimates of rates of homicides per 100 000 population.1</th>\n",
       "      <th>Estimates of rates of homicides per 100 000 population.2</th>\n",
       "      <th>Estimates of rates of homicides per 100 000 population.3</th>\n",
       "      <th>Estimates of rates of homicides per 100 000 population.4</th>\n",
       "      <th>Estimates of rates of homicides per 100 000 population.5</th>\n",
       "      <th>Estimates of rates of homicides per 100 000 population.6</th>\n",
       "      <th>Estimates of rates of homicides per 100 000 population.7</th>\n",
       "      <th>Estimates of rates of homicides per 100 000 population.8</th>\n",
       "      <th>Estimates of rates of homicides per 100 000 population.9</th>\n",
       "      <th>Estimates of rates of homicides per 100 000 population.10</th>\n",
       "      <th>Estimates of rates of homicides per 100 000 population.11</th>\n",
       "      <th>Estimates of rates of homicides per 100 000 population.12</th>\n",
       "      <th>Estimates of rates of homicides per 100 000 population.13</th>\n",
       "      <th>Estimates of rates of homicides per 100 000 population.14</th>\n",
       "    </tr>\n",
       "  </thead>\n",
       "  <tbody>\n",
       "    <tr>\n",
       "      <th>0</th>\n",
       "      <td>NaN</td>\n",
       "      <td>2016</td>\n",
       "      <td>2016</td>\n",
       "      <td>2016</td>\n",
       "      <td>2015</td>\n",
       "      <td>2015</td>\n",
       "      <td>2015</td>\n",
       "      <td>2010</td>\n",
       "      <td>2010</td>\n",
       "      <td>2010</td>\n",
       "      <td>2005</td>\n",
       "      <td>2005</td>\n",
       "      <td>2005</td>\n",
       "      <td>2000</td>\n",
       "      <td>2000</td>\n",
       "      <td>2000</td>\n",
       "    </tr>\n",
       "    <tr>\n",
       "      <th>1</th>\n",
       "      <td>Country</td>\n",
       "      <td>Both sexes</td>\n",
       "      <td>Male</td>\n",
       "      <td>Female</td>\n",
       "      <td>Both sexes</td>\n",
       "      <td>Male</td>\n",
       "      <td>Female</td>\n",
       "      <td>Both sexes</td>\n",
       "      <td>Male</td>\n",
       "      <td>Female</td>\n",
       "      <td>Both sexes</td>\n",
       "      <td>Male</td>\n",
       "      <td>Female</td>\n",
       "      <td>Both sexes</td>\n",
       "      <td>Male</td>\n",
       "      <td>Female</td>\n",
       "    </tr>\n",
       "    <tr>\n",
       "      <th>2</th>\n",
       "      <td>Afghanistan</td>\n",
       "      <td>7.4</td>\n",
       "      <td>13.5</td>\n",
       "      <td>0.9</td>\n",
       "      <td>7.4</td>\n",
       "      <td>13.5</td>\n",
       "      <td>0.9</td>\n",
       "      <td>7.5</td>\n",
       "      <td>13.9</td>\n",
       "      <td>0.7</td>\n",
       "      <td>7.9</td>\n",
       "      <td>14.7</td>\n",
       "      <td>0.7</td>\n",
       "      <td>8.3</td>\n",
       "      <td>15.5</td>\n",
       "      <td>0.6</td>\n",
       "    </tr>\n",
       "    <tr>\n",
       "      <th>3</th>\n",
       "      <td>Albania</td>\n",
       "      <td>4.2</td>\n",
       "      <td>5.8</td>\n",
       "      <td>2.4</td>\n",
       "      <td>4.2</td>\n",
       "      <td>5.9</td>\n",
       "      <td>2.5</td>\n",
       "      <td>5.2</td>\n",
       "      <td>7.4</td>\n",
       "      <td>3.0</td>\n",
       "      <td>5.9</td>\n",
       "      <td>8.4</td>\n",
       "      <td>3.3</td>\n",
       "      <td>5.8</td>\n",
       "      <td>9.7</td>\n",
       "      <td>1.7</td>\n",
       "    </tr>\n",
       "    <tr>\n",
       "      <th>4</th>\n",
       "      <td>Algeria</td>\n",
       "      <td>4.2</td>\n",
       "      <td>6.4</td>\n",
       "      <td>1.9</td>\n",
       "      <td>4.3</td>\n",
       "      <td>6.6</td>\n",
       "      <td>2.0</td>\n",
       "      <td>5.6</td>\n",
       "      <td>8.6</td>\n",
       "      <td>2.5</td>\n",
       "      <td>6.4</td>\n",
       "      <td>9.8</td>\n",
       "      <td>3.0</td>\n",
       "      <td>7.2</td>\n",
       "      <td>10.8</td>\n",
       "      <td>3.6</td>\n",
       "    </tr>\n",
       "  </tbody>\n",
       "</table>\n",
       "</div>"
      ],
      "text/plain": [
       "    Unnamed: 0 Estimates of rates of homicides per 100 000 population  \\\n",
       "0          NaN                                               2016       \n",
       "1      Country                                         Both sexes       \n",
       "2  Afghanistan                                                7.4       \n",
       "3      Albania                                                4.2       \n",
       "4      Algeria                                                4.2       \n",
       "\n",
       "  Estimates of rates of homicides per 100 000 population.1  \\\n",
       "0                                               2016         \n",
       "1                                               Male         \n",
       "2                                               13.5         \n",
       "3                                                5.8         \n",
       "4                                                6.4         \n",
       "\n",
       "  Estimates of rates of homicides per 100 000 population.2  \\\n",
       "0                                               2016         \n",
       "1                                             Female         \n",
       "2                                                0.9         \n",
       "3                                                2.4         \n",
       "4                                                1.9         \n",
       "\n",
       "  Estimates of rates of homicides per 100 000 population.3  \\\n",
       "0                                               2015         \n",
       "1                                         Both sexes         \n",
       "2                                                7.4         \n",
       "3                                                4.2         \n",
       "4                                                4.3         \n",
       "\n",
       "  Estimates of rates of homicides per 100 000 population.4  \\\n",
       "0                                               2015         \n",
       "1                                               Male         \n",
       "2                                               13.5         \n",
       "3                                                5.9         \n",
       "4                                                6.6         \n",
       "\n",
       "  Estimates of rates of homicides per 100 000 population.5  \\\n",
       "0                                               2015         \n",
       "1                                             Female         \n",
       "2                                                0.9         \n",
       "3                                                2.5         \n",
       "4                                                2.0         \n",
       "\n",
       "  Estimates of rates of homicides per 100 000 population.6  \\\n",
       "0                                               2010         \n",
       "1                                         Both sexes         \n",
       "2                                                7.5         \n",
       "3                                                5.2         \n",
       "4                                                5.6         \n",
       "\n",
       "  Estimates of rates of homicides per 100 000 population.7  \\\n",
       "0                                               2010         \n",
       "1                                               Male         \n",
       "2                                               13.9         \n",
       "3                                                7.4         \n",
       "4                                                8.6         \n",
       "\n",
       "  Estimates of rates of homicides per 100 000 population.8  \\\n",
       "0                                               2010         \n",
       "1                                             Female         \n",
       "2                                                0.7         \n",
       "3                                                3.0         \n",
       "4                                                2.5         \n",
       "\n",
       "  Estimates of rates of homicides per 100 000 population.9  \\\n",
       "0                                               2005         \n",
       "1                                         Both sexes         \n",
       "2                                                7.9         \n",
       "3                                                5.9         \n",
       "4                                                6.4         \n",
       "\n",
       "  Estimates of rates of homicides per 100 000 population.10  \\\n",
       "0                                               2005          \n",
       "1                                               Male          \n",
       "2                                               14.7          \n",
       "3                                                8.4          \n",
       "4                                                9.8          \n",
       "\n",
       "  Estimates of rates of homicides per 100 000 population.11  \\\n",
       "0                                               2005          \n",
       "1                                             Female          \n",
       "2                                                0.7          \n",
       "3                                                3.3          \n",
       "4                                                3.0          \n",
       "\n",
       "  Estimates of rates of homicides per 100 000 population.12  \\\n",
       "0                                               2000          \n",
       "1                                         Both sexes          \n",
       "2                                                8.3          \n",
       "3                                                5.8          \n",
       "4                                                7.2          \n",
       "\n",
       "  Estimates of rates of homicides per 100 000 population.13  \\\n",
       "0                                               2000          \n",
       "1                                               Male          \n",
       "2                                               15.5          \n",
       "3                                                9.7          \n",
       "4                                               10.8          \n",
       "\n",
       "  Estimates of rates of homicides per 100 000 population.14  \n",
       "0                                               2000         \n",
       "1                                             Female         \n",
       "2                                                0.6         \n",
       "3                                                1.7         \n",
       "4                                                3.6         "
      ]
     },
     "execution_count": 6,
     "metadata": {},
     "output_type": "execute_result"
    }
   ],
   "source": [
    "#Reading homicide data csv into a dataframe\n",
    "\n",
    "homicide_df = pd.read_csv('Homicide_Data.csv')\n",
    "\n",
    "#Showing the dataframe to see what the data looks like\n",
    "homicide_df.head()"
   ]
  },
  {
   "cell_type": "code",
   "execution_count": 7,
   "metadata": {},
   "outputs": [],
   "source": [
    "#Renaming the columns to make the headings more concise\n",
    "homicide_df = homicide_df.rename(columns={\"Unnamed: 0\": \"Country\", \n",
    "                                    \"Estimates of rates of homicides per 100 000 population\": \"Male and Female Homicides Per Capita (per 100,000)\",\n",
    "                                    \"Estimates of rates of homicides per 100 000 population.1\": \"Male Homicides Per Capita (per 100,000)\",\n",
    "                                    \"Estimates of rates of homicides per 100 000 population.2\": \"Female Homicides Per Capita (per 100,000)\"\n",
    "                                   })\n",
    "\n",
    "#Dropping columns from older years\n",
    "homicide_df.drop(homicide_df.iloc[:, 4:16], inplace = True, axis = 1)\n"
   ]
  },
  {
   "cell_type": "code",
   "execution_count": 8,
   "metadata": {},
   "outputs": [],
   "source": [
    "#Dropping the first two rows that contained header information\n",
    "homicide_df = homicide_df.drop([0, 1])\n"
   ]
  },
  {
   "cell_type": "code",
   "execution_count": 9,
   "metadata": {},
   "outputs": [
    {
     "data": {
      "text/plain": [
       "Country                                                object\n",
       "Region                                                 object\n",
       "Happiness Rank                                          int64\n",
       "Happiness Score                                       float64\n",
       "Estimated number of road traffic deaths                object\n",
       "Auto Deaths Per Capita (per 100,000)                  float64\n",
       "Male and Female Homicides Per Capita (per 100,000)     object\n",
       "Male Homicides Per Capita (per 100,000)                object\n",
       "Female Homicides Per Capita (per 100,000)              object\n",
       "dtype: object"
      ]
     },
     "execution_count": 9,
     "metadata": {},
     "output_type": "execute_result"
    }
   ],
   "source": [
    "#Merging the already merged happiness and auto death data with the homicide data\n",
    "auto_homi_df = pd.merge(ad_hap_merge, homicide_df, on= \"Country\")\n",
    "\n",
    "#Checking the data types in the dataframe to prep for graphing and calculations\n",
    "auto_homi_df.dtypes"
   ]
  },
  {
   "cell_type": "code",
   "execution_count": 10,
   "metadata": {},
   "outputs": [
    {
     "data": {
      "text/html": [
       "<div>\n",
       "<style scoped>\n",
       "    .dataframe tbody tr th:only-of-type {\n",
       "        vertical-align: middle;\n",
       "    }\n",
       "\n",
       "    .dataframe tbody tr th {\n",
       "        vertical-align: top;\n",
       "    }\n",
       "\n",
       "    .dataframe thead th {\n",
       "        text-align: right;\n",
       "    }\n",
       "</style>\n",
       "<table border=\"1\" class=\"dataframe\">\n",
       "  <thead>\n",
       "    <tr style=\"text-align: right;\">\n",
       "      <th></th>\n",
       "      <th>Country</th>\n",
       "      <th>Region</th>\n",
       "      <th>Happiness Rank</th>\n",
       "      <th>Happiness Score</th>\n",
       "      <th>Auto Deaths Per Capita (per 100,000)</th>\n",
       "    </tr>\n",
       "  </thead>\n",
       "  <tbody>\n",
       "    <tr>\n",
       "      <th>1</th>\n",
       "      <td>Switzerland</td>\n",
       "      <td>Western Europe</td>\n",
       "      <td>2</td>\n",
       "      <td>7.509</td>\n",
       "      <td>2.7</td>\n",
       "    </tr>\n",
       "    <tr>\n",
       "      <th>3</th>\n",
       "      <td>Norway</td>\n",
       "      <td>Western Europe</td>\n",
       "      <td>4</td>\n",
       "      <td>7.498</td>\n",
       "      <td>2.7</td>\n",
       "    </tr>\n",
       "    <tr>\n",
       "      <th>19</th>\n",
       "      <td>Singapore</td>\n",
       "      <td>Southeastern Asia</td>\n",
       "      <td>22</td>\n",
       "      <td>6.739</td>\n",
       "      <td>2.8</td>\n",
       "    </tr>\n",
       "    <tr>\n",
       "      <th>9</th>\n",
       "      <td>Sweden</td>\n",
       "      <td>Western Europe</td>\n",
       "      <td>10</td>\n",
       "      <td>7.291</td>\n",
       "      <td>2.8</td>\n",
       "    </tr>\n",
       "    <tr>\n",
       "      <th>6</th>\n",
       "      <td>Netherlands</td>\n",
       "      <td>Western Europe</td>\n",
       "      <td>7</td>\n",
       "      <td>7.339</td>\n",
       "      <td>3.8</td>\n",
       "    </tr>\n",
       "  </tbody>\n",
       "</table>\n",
       "</div>"
      ],
      "text/plain": [
       "        Country             Region  Happiness Rank  Happiness Score  \\\n",
       "1   Switzerland     Western Europe               2            7.509   \n",
       "3        Norway     Western Europe               4            7.498   \n",
       "19    Singapore  Southeastern Asia              22            6.739   \n",
       "9        Sweden     Western Europe              10            7.291   \n",
       "6   Netherlands     Western Europe               7            7.339   \n",
       "\n",
       "    Auto Deaths Per Capita (per 100,000)  \n",
       "1                                    2.7  \n",
       "3                                    2.7  \n",
       "19                                   2.8  \n",
       "9                                    2.8  \n",
       "6                                    3.8  "
      ]
     },
     "execution_count": 10,
     "metadata": {},
     "output_type": "execute_result"
    }
   ],
   "source": [
    "#Dataframe of only happiness score and auto deaths\n",
    "\n",
    "hap_auto = auto_homi_df.drop(['Estimated number of road traffic deaths',\n",
    "                              'Male and Female Homicides Per Capita (per 100,000)',\n",
    "                              'Male Homicides Per Capita (per 100,000)',\n",
    "                              'Female Homicides Per Capita (per 100,000)'\n",
    "                             ], axis=1)\n",
    "#Droppping any na values\n",
    "hap_auto = hap_auto.dropna(how='all')\n",
    "\n",
    "hap_auto = hap_auto.sort_values(by=['Auto Deaths Per Capita (per 100,000)'])\n",
    "\n",
    "hap_auto.head()"
   ]
  },
  {
   "cell_type": "code",
   "execution_count": 11,
   "metadata": {},
   "outputs": [
    {
     "data": {
      "text/html": [
       "<div>\n",
       "<style scoped>\n",
       "    .dataframe tbody tr th:only-of-type {\n",
       "        vertical-align: middle;\n",
       "    }\n",
       "\n",
       "    .dataframe tbody tr th {\n",
       "        vertical-align: top;\n",
       "    }\n",
       "\n",
       "    .dataframe thead th {\n",
       "        text-align: right;\n",
       "    }\n",
       "</style>\n",
       "<table border=\"1\" class=\"dataframe\">\n",
       "  <thead>\n",
       "    <tr style=\"text-align: right;\">\n",
       "      <th></th>\n",
       "      <th>Country</th>\n",
       "      <th>Region</th>\n",
       "      <th>Happiness Rank</th>\n",
       "      <th>Happiness Score</th>\n",
       "      <th>Auto Deaths Per Capita (per 100,000)</th>\n",
       "    </tr>\n",
       "  </thead>\n",
       "  <tbody>\n",
       "    <tr>\n",
       "      <th>28</th>\n",
       "      <td>Thailand</td>\n",
       "      <td>Southeastern Asia</td>\n",
       "      <td>33</td>\n",
       "      <td>6.474</td>\n",
       "      <td>32.7</td>\n",
       "    </tr>\n",
       "  </tbody>\n",
       "</table>\n",
       "</div>"
      ],
      "text/plain": [
       "     Country             Region  Happiness Rank  Happiness Score  \\\n",
       "28  Thailand  Southeastern Asia              33            6.474   \n",
       "\n",
       "    Auto Deaths Per Capita (per 100,000)  \n",
       "28                                  32.7  "
      ]
     },
     "execution_count": 11,
     "metadata": {},
     "output_type": "execute_result"
    }
   ],
   "source": [
    "#Thailand data for presentation\n",
    "hap_auto.loc[hap_auto['Country'] == 'Thailand']"
   ]
  },
  {
   "cell_type": "code",
   "execution_count": 12,
   "metadata": {},
   "outputs": [
    {
     "data": {
      "text/plain": [
       "Country                                            Liberia\n",
       "Region                                  Sub-Saharan Africa\n",
       "Happiness Rank                                         150\n",
       "Happiness Score                                      3.622\n",
       "Auto Deaths Per Capita (per 100,000)                  35.9\n",
       "Name: 126, dtype: object"
      ]
     },
     "execution_count": 12,
     "metadata": {},
     "output_type": "execute_result"
    }
   ],
   "source": [
    "#Highest Auto death rate\n",
    "hap_auto.loc[hap_auto['Auto Deaths Per Capita (per 100,000)'].idxmax()]"
   ]
  },
  {
   "cell_type": "code",
   "execution_count": 13,
   "metadata": {},
   "outputs": [
    {
     "data": {
      "text/plain": [
       "Country                                    Switzerland\n",
       "Region                                  Western Europe\n",
       "Happiness Rank                                       2\n",
       "Happiness Score                                  7.509\n",
       "Auto Deaths Per Capita (per 100,000)               2.7\n",
       "Name: 1, dtype: object"
      ]
     },
     "execution_count": 13,
     "metadata": {},
     "output_type": "execute_result"
    }
   ],
   "source": [
    "#Lowest Auto death rate\n",
    "hap_auto.loc[hap_auto['Auto Deaths Per Capita (per 100,000)'].idxmin()]"
   ]
  },
  {
   "cell_type": "code",
   "execution_count": 14,
   "metadata": {},
   "outputs": [
    {
     "data": {
      "text/plain": [
       "Country                                                object\n",
       "Region                                                 object\n",
       "Happiness Rank                                          int64\n",
       "Happiness Score                                       float64\n",
       "Male and Female Homicides Per Capita (per 100,000)    float64\n",
       "dtype: object"
      ]
     },
     "execution_count": 14,
     "metadata": {},
     "output_type": "execute_result"
    }
   ],
   "source": [
    "#Dataframe of only happiness and overall homicide rate\n",
    "\n",
    "hap_homiO = auto_homi_df.drop(['Estimated number of road traffic deaths',\n",
    "                               'Auto Deaths Per Capita (per 100,000)',\n",
    "                              'Male Homicides Per Capita (per 100,000)',\n",
    "                              'Female Homicides Per Capita (per 100,000)'\n",
    "                             ], axis=1)\n",
    "#Droppping any na values\n",
    "hap_homiO = hap_homiO.dropna(how='all')\n",
    "\n",
    "#converting columns with Object data type to float for calculations and graphing\n",
    "hap_homiO[['Male and Female Homicides Per Capita (per 100,000)']] = hap_homiO[['Male and Female Homicides Per Capita (per 100,000)']].astype('float64')\n",
    "\n",
    "hap_homiO.dtypes"
   ]
  },
  {
   "cell_type": "code",
   "execution_count": 15,
   "metadata": {},
   "outputs": [
    {
     "data": {
      "text/plain": [
       "Country                                     object\n",
       "Region                                      object\n",
       "Happiness Rank                               int64\n",
       "Happiness Score                            float64\n",
       "Male Homicides Per Capita (per 100,000)    float64\n",
       "dtype: object"
      ]
     },
     "execution_count": 15,
     "metadata": {},
     "output_type": "execute_result"
    }
   ],
   "source": [
    "#Dataframe of happiness and male homicide rate\n",
    "hap_homiM = auto_homi_df.drop(['Estimated number of road traffic deaths',\n",
    "                               'Auto Deaths Per Capita (per 100,000)',\n",
    "                              'Male and Female Homicides Per Capita (per 100,000)',\n",
    "                              'Female Homicides Per Capita (per 100,000)'\n",
    "                             ], axis=1)\n",
    "#Droppping any na values\n",
    "hap_homiM = hap_homiM.dropna(how='all')\n",
    "\n",
    "#converting columns with Object data type to float for calculations and graphing\n",
    "hap_homiM[['Male Homicides Per Capita (per 100,000)']] = hap_homiM[['Male Homicides Per Capita (per 100,000)']].astype('float64') \n",
    "\n",
    "hap_homiM.dtypes"
   ]
  },
  {
   "cell_type": "code",
   "execution_count": 16,
   "metadata": {},
   "outputs": [
    {
     "data": {
      "text/plain": [
       "Country                                       object\n",
       "Region                                        object\n",
       "Happiness Rank                                 int64\n",
       "Happiness Score                              float64\n",
       "Female Homicides Per Capita (per 100,000)    float64\n",
       "dtype: object"
      ]
     },
     "execution_count": 16,
     "metadata": {},
     "output_type": "execute_result"
    }
   ],
   "source": [
    "#Dataframe of happiness and female murder rate\n",
    "hap_homiF = auto_homi_df.drop(['Estimated number of road traffic deaths',\n",
    "                               'Auto Deaths Per Capita (per 100,000)',\n",
    "                              'Male and Female Homicides Per Capita (per 100,000)',\n",
    "                              'Male Homicides Per Capita (per 100,000)'\n",
    "                             ], axis=1)\n",
    "#Droppping any na values\n",
    "hap_homiF = hap_homiF.dropna(how='all')\n",
    "\n",
    "#converting columns with Object data type to float for calculations and graphing\n",
    "hap_homiF[['Female Homicides Per Capita (per 100,000)']] = hap_homiF[['Female Homicides Per Capita (per 100,000)']].astype('float64')\n",
    "\n",
    "hap_homiF.dtypes"
   ]
  },
  {
   "cell_type": "code",
   "execution_count": 17,
   "metadata": {},
   "outputs": [
    {
     "data": {
      "text/html": [
       "<div>\n",
       "<style scoped>\n",
       "    .dataframe tbody tr th:only-of-type {\n",
       "        vertical-align: middle;\n",
       "    }\n",
       "\n",
       "    .dataframe tbody tr th {\n",
       "        vertical-align: top;\n",
       "    }\n",
       "\n",
       "    .dataframe thead th {\n",
       "        text-align: right;\n",
       "    }\n",
       "</style>\n",
       "<table border=\"1\" class=\"dataframe\">\n",
       "  <thead>\n",
       "    <tr style=\"text-align: right;\">\n",
       "      <th></th>\n",
       "      <th>Country</th>\n",
       "      <th>Region</th>\n",
       "      <th>Happiness Rank</th>\n",
       "      <th>Happiness Score</th>\n",
       "      <th>Estimated number of road traffic deaths</th>\n",
       "      <th>Auto Deaths Per Capita (per 100,000)</th>\n",
       "      <th>Male and Female Homicides Per Capita (per 100,000)</th>\n",
       "      <th>Male Homicides Per Capita (per 100,000)</th>\n",
       "      <th>Female Homicides Per Capita (per 100,000)</th>\n",
       "    </tr>\n",
       "  </thead>\n",
       "  <tbody>\n",
       "    <tr>\n",
       "      <th>0</th>\n",
       "      <td>Denmark</td>\n",
       "      <td>Western Europe</td>\n",
       "      <td>1</td>\n",
       "      <td>7.526</td>\n",
       "      <td>196</td>\n",
       "      <td>4.0</td>\n",
       "      <td>0.8</td>\n",
       "      <td>0.9</td>\n",
       "      <td>0.7</td>\n",
       "    </tr>\n",
       "    <tr>\n",
       "      <th>1</th>\n",
       "      <td>Switzerland</td>\n",
       "      <td>Western Europe</td>\n",
       "      <td>2</td>\n",
       "      <td>7.509</td>\n",
       "      <td>269</td>\n",
       "      <td>2.7</td>\n",
       "      <td>0.5</td>\n",
       "      <td>0.5</td>\n",
       "      <td>0.5</td>\n",
       "    </tr>\n",
       "    <tr>\n",
       "      <th>2</th>\n",
       "      <td>Iceland</td>\n",
       "      <td>Western Europe</td>\n",
       "      <td>3</td>\n",
       "      <td>7.501</td>\n",
       "      <td>15</td>\n",
       "      <td>6.6</td>\n",
       "      <td>1.2</td>\n",
       "      <td>1.5</td>\n",
       "      <td>1.0</td>\n",
       "    </tr>\n",
       "    <tr>\n",
       "      <th>3</th>\n",
       "      <td>Norway</td>\n",
       "      <td>Western Europe</td>\n",
       "      <td>4</td>\n",
       "      <td>7.498</td>\n",
       "      <td>192</td>\n",
       "      <td>2.7</td>\n",
       "      <td>0.6</td>\n",
       "      <td>0.7</td>\n",
       "      <td>0.5</td>\n",
       "    </tr>\n",
       "    <tr>\n",
       "      <th>4</th>\n",
       "      <td>Finland</td>\n",
       "      <td>Western Europe</td>\n",
       "      <td>5</td>\n",
       "      <td>7.413</td>\n",
       "      <td>258</td>\n",
       "      <td>4.7</td>\n",
       "      <td>1.3</td>\n",
       "      <td>1.7</td>\n",
       "      <td>0.9</td>\n",
       "    </tr>\n",
       "  </tbody>\n",
       "</table>\n",
       "</div>"
      ],
      "text/plain": [
       "       Country          Region  Happiness Rank  Happiness Score  \\\n",
       "0      Denmark  Western Europe               1            7.526   \n",
       "1  Switzerland  Western Europe               2            7.509   \n",
       "2      Iceland  Western Europe               3            7.501   \n",
       "3       Norway  Western Europe               4            7.498   \n",
       "4      Finland  Western Europe               5            7.413   \n",
       "\n",
       "  Estimated number of road traffic deaths  \\\n",
       "0                                     196   \n",
       "1                                     269   \n",
       "2                                      15   \n",
       "3                                     192   \n",
       "4                                     258   \n",
       "\n",
       "   Auto Deaths Per Capita (per 100,000)  \\\n",
       "0                                   4.0   \n",
       "1                                   2.7   \n",
       "2                                   6.6   \n",
       "3                                   2.7   \n",
       "4                                   4.7   \n",
       "\n",
       "  Male and Female Homicides Per Capita (per 100,000)  \\\n",
       "0                                                0.8   \n",
       "1                                                0.5   \n",
       "2                                                1.2   \n",
       "3                                                0.6   \n",
       "4                                                1.3   \n",
       "\n",
       "  Male Homicides Per Capita (per 100,000)  \\\n",
       "0                                     0.9   \n",
       "1                                     0.5   \n",
       "2                                     1.5   \n",
       "3                                     0.7   \n",
       "4                                     1.7   \n",
       "\n",
       "  Female Homicides Per Capita (per 100,000)  \n",
       "0                                       0.7  \n",
       "1                                       0.5  \n",
       "2                                       1.0  \n",
       "3                                       0.5  \n",
       "4                                       0.9  "
      ]
     },
     "execution_count": 17,
     "metadata": {},
     "output_type": "execute_result"
    }
   ],
   "source": [
    "#Replace NA fields with 0\n",
    "auto_homi_df = auto_homi_df.fillna(0)\n",
    "\n",
    "auto_homi_df.head()"
   ]
  },
  {
   "cell_type": "code",
   "execution_count": 18,
   "metadata": {},
   "outputs": [
    {
     "data": {
      "text/plain": [
       "Country                                                object\n",
       "Region                                                 object\n",
       "Happiness Rank                                          int64\n",
       "Happiness Score                                       float64\n",
       "Estimated number of road traffic deaths                object\n",
       "Auto Deaths Per Capita (per 100,000)                  float64\n",
       "Male and Female Homicides Per Capita (per 100,000)    float64\n",
       "Male Homicides Per Capita (per 100,000)               float64\n",
       "Female Homicides Per Capita (per 100,000)             float64\n",
       "dtype: object"
      ]
     },
     "execution_count": 18,
     "metadata": {},
     "output_type": "execute_result"
    }
   ],
   "source": [
    "#converting columns with Objet data type to float for calculations and graphing\n",
    "auto_homi_df[['Male and Female Homicides Per Capita (per 100,000)']] = auto_homi_df[['Male and Female Homicides Per Capita (per 100,000)']].astype('float64')\n",
    "auto_homi_df[['Male Homicides Per Capita (per 100,000)']] = auto_homi_df[['Male Homicides Per Capita (per 100,000)']].astype('float64')                        \n",
    "auto_homi_df[['Female Homicides Per Capita (per 100,000)']] = auto_homi_df[['Female Homicides Per Capita (per 100,000)']].astype('float64')\n",
    "\n",
    "#Checking the data types \n",
    "auto_homi_df.dtypes"
   ]
  },
  {
   "cell_type": "code",
   "execution_count": 19,
   "metadata": {},
   "outputs": [
    {
     "data": {
      "text/html": [
       "<div>\n",
       "<style scoped>\n",
       "    .dataframe tbody tr th:only-of-type {\n",
       "        vertical-align: middle;\n",
       "    }\n",
       "\n",
       "    .dataframe tbody tr th {\n",
       "        vertical-align: top;\n",
       "    }\n",
       "\n",
       "    .dataframe thead th {\n",
       "        text-align: right;\n",
       "    }\n",
       "</style>\n",
       "<table border=\"1\" class=\"dataframe\">\n",
       "  <thead>\n",
       "    <tr style=\"text-align: right;\">\n",
       "      <th></th>\n",
       "      <th>Region</th>\n",
       "      <th>Happiness Score</th>\n",
       "      <th>Auto Deaths Per Capita (per 100,000)</th>\n",
       "      <th>Male and Female Homicides Per Capita (per 100,000)</th>\n",
       "      <th>Male Homicides Per Capita (per 100,000)</th>\n",
       "      <th>Female Homicides Per Capita (per 100,000)</th>\n",
       "    </tr>\n",
       "    <tr>\n",
       "      <th>Country</th>\n",
       "      <th></th>\n",
       "      <th></th>\n",
       "      <th></th>\n",
       "      <th></th>\n",
       "      <th></th>\n",
       "      <th></th>\n",
       "    </tr>\n",
       "  </thead>\n",
       "  <tbody>\n",
       "    <tr>\n",
       "      <th>Denmark</th>\n",
       "      <td>Western Europe</td>\n",
       "      <td>7.526</td>\n",
       "      <td>4.0</td>\n",
       "      <td>0.8</td>\n",
       "      <td>0.9</td>\n",
       "      <td>0.7</td>\n",
       "    </tr>\n",
       "    <tr>\n",
       "      <th>Switzerland</th>\n",
       "      <td>Western Europe</td>\n",
       "      <td>7.509</td>\n",
       "      <td>2.7</td>\n",
       "      <td>0.5</td>\n",
       "      <td>0.5</td>\n",
       "      <td>0.5</td>\n",
       "    </tr>\n",
       "    <tr>\n",
       "      <th>Iceland</th>\n",
       "      <td>Western Europe</td>\n",
       "      <td>7.501</td>\n",
       "      <td>6.6</td>\n",
       "      <td>1.2</td>\n",
       "      <td>1.5</td>\n",
       "      <td>1.0</td>\n",
       "    </tr>\n",
       "    <tr>\n",
       "      <th>Norway</th>\n",
       "      <td>Western Europe</td>\n",
       "      <td>7.498</td>\n",
       "      <td>2.7</td>\n",
       "      <td>0.6</td>\n",
       "      <td>0.7</td>\n",
       "      <td>0.5</td>\n",
       "    </tr>\n",
       "    <tr>\n",
       "      <th>Finland</th>\n",
       "      <td>Western Europe</td>\n",
       "      <td>7.413</td>\n",
       "      <td>4.7</td>\n",
       "      <td>1.3</td>\n",
       "      <td>1.7</td>\n",
       "      <td>0.9</td>\n",
       "    </tr>\n",
       "  </tbody>\n",
       "</table>\n",
       "</div>"
      ],
      "text/plain": [
       "                     Region  Happiness Score  \\\n",
       "Country                                        \n",
       "Denmark      Western Europe            7.526   \n",
       "Switzerland  Western Europe            7.509   \n",
       "Iceland      Western Europe            7.501   \n",
       "Norway       Western Europe            7.498   \n",
       "Finland      Western Europe            7.413   \n",
       "\n",
       "             Auto Deaths Per Capita (per 100,000)  \\\n",
       "Country                                             \n",
       "Denmark                                       4.0   \n",
       "Switzerland                                   2.7   \n",
       "Iceland                                       6.6   \n",
       "Norway                                        2.7   \n",
       "Finland                                       4.7   \n",
       "\n",
       "             Male and Female Homicides Per Capita (per 100,000)  \\\n",
       "Country                                                           \n",
       "Denmark                                                    0.8    \n",
       "Switzerland                                                0.5    \n",
       "Iceland                                                    1.2    \n",
       "Norway                                                     0.6    \n",
       "Finland                                                    1.3    \n",
       "\n",
       "             Male Homicides Per Capita (per 100,000)  \\\n",
       "Country                                                \n",
       "Denmark                                          0.9   \n",
       "Switzerland                                      0.5   \n",
       "Iceland                                          1.5   \n",
       "Norway                                           0.7   \n",
       "Finland                                          1.7   \n",
       "\n",
       "             Female Homicides Per Capita (per 100,000)  \n",
       "Country                                                 \n",
       "Denmark                                            0.7  \n",
       "Switzerland                                        0.5  \n",
       "Iceland                                            1.0  \n",
       "Norway                                             0.5  \n",
       "Finland                                            0.9  "
      ]
     },
     "execution_count": 19,
     "metadata": {},
     "output_type": "execute_result"
    }
   ],
   "source": [
    "#Creating a dataframe that will only be used for graphs\n",
    "\n",
    "grph_df = auto_homi_df.drop(['Happiness Rank','Estimated number of road traffic deaths'], axis=1)\n",
    "\n",
    "#Making the country column the index\n",
    "grph_df = grph_df.set_index('Country')\n",
    "\n",
    "grph_df.head()"
   ]
  },
  {
   "cell_type": "code",
   "execution_count": 20,
   "metadata": {},
   "outputs": [],
   "source": [
    "# Function to create Linear Regression plots\n",
    "def linearRegrassionPlot(x_values, y_values, title, xlabel , ylabel, fileName):\n",
    "        (slope, intercept, rvalue, pvalue, stderr) = linregress(x_values, y_values)\n",
    "        regress_values = x_values * slope + intercept\n",
    "        line_eq = f'y = {str(round(slope,2))}x + {str(round(intercept,2))}'\n",
    "        plt.scatter(x_values,y_values, marker=\"o\", facecolors=\"yellow\", edgecolors=\"r\", alpha=0.55)\n",
    "        plt.plot(x_values,regress_values,\"r-\")\n",
    "        # Creating an extra space on the plot for the equation of the regression line\n",
    "        plt.annotate(line_eq,(x_values.min() , y_values.max()+ 0.05 * y_values.max()),fontsize=14,color=\"red\")\n",
    "        # To change the size of your pie chart/figure\n",
    "        fig = plt.gcf()\n",
    "        fig.set_size_inches(8,5)\n",
    "        # Creating a title, x label, and y label\n",
    "        plt.title(title, fontsize=18, color='Black', alpha=0.85)\n",
    "        plt.xlabel(xlabel, fontsize=16)\n",
    "        plt.ylabel(ylabel, fontsize=16)\n",
    "#         r_value=(f\"r-value: {rvalue}\")\n",
    "#         p_value=(f\"p-value: {pvalue}\")\n",
    "\n",
    "        # Create x limits of our scatter plot\n",
    "        if x_values.max() > 0:\n",
    "            plt.xlim(x_values.min() - np.absolute(0.05 * x_values.min()) - 5, x_values.max() + 0.05 * x_values.max() + 5)\n",
    "        else:\n",
    "            plt.xlim(x_values.min() - np.absolute(0.05 * x_values.min()) - 5, x_values.max() - 0.05 * x_values.max() + 5)\n",
    "        # Create y limits of our scatter plot\n",
    "        if y_values.max() > 0:\n",
    "            plt.ylim(y_values.min() - np.absolute(0.05 * y_values.min()) - 5, y_values.max() + 0.10 * y_values.max() + 5)\n",
    "        else:\n",
    "            plt.ylim(y_values.min() - np.absolute(0.05 * y_values.min()) - 5, y_values.max() - 0.10 * y_values.max() + 5)\n",
    "        print(f\"The r-squared is: {rvalue}\")\n",
    "        print(f\"The equation of the regression line is: {line_eq}\")\n",
    "        print(f\"The p-value is: {pvalue}\")\n",
    "        # Save the plotted figures as .pngs\n",
    "        plt.savefig(fileName + '.png')\n",
    "        plt.grid()\n",
    "        plt.show()"
   ]
  },
  {
   "cell_type": "code",
   "execution_count": 21,
   "metadata": {},
   "outputs": [],
   "source": [
    "Ho = 'Countries with a high happiness score have less auto deaths'\n",
    "Ha = 'Countries with a high happiness score have more auto deaths'\n",
    "null = 'Happiness does not determine auto deaths'"
   ]
  },
  {
   "cell_type": "code",
   "execution_count": 22,
   "metadata": {
    "scrolled": false
   },
   "outputs": [
    {
     "name": "stdout",
     "output_type": "stream",
     "text": [
      "The r-squared is: -0.587129498298045\n",
      "The equation of the regression line is: y = -0.07x + 6.51\n",
      "The p-value is: 1.1057480094541628e-13\n"
     ]
    },
    {
     "data": {
      "image/png": "[encoded data removed]",
      "text/plain": [
       "<Figure size 576x360 with 1 Axes>"
      ]
     },
     "metadata": {
      "needs_background": "light"
     },
     "output_type": "display_data"
    }
   ],
   "source": [
    "#Using the function to get the r and p values and also to display a scatter plot of Happiness and Auto deaths\n",
    "\n",
    "linearRegrassionPlot(auto_homi_df['Auto Deaths Per Capita (per 100,000)'], auto_homi_df['Happiness Score'], 'Happiness Vs Auto Deaths', 'Auto Deaths', 'Happiness', 'Auto_Deaths2')"
   ]
  },
  {
   "cell_type": "code",
   "execution_count": 23,
   "metadata": {},
   "outputs": [
    {
     "data": {
      "text/plain": [
       "Country                                                     Zimbabwe\n",
       "Region                                                Western Europe\n",
       "Happiness Rank                                                   157\n",
       "Happiness Score                                                7.526\n",
       "Auto Deaths Per Capita (per 100,000)                            35.9\n",
       "Male and Female Homicides Per Capita (per 100,000)              55.5\n",
       "Male Homicides Per Capita (per 100,000)                         85.9\n",
       "Female Homicides Per Capita (per 100,000)                       32.1\n",
       "dtype: object"
      ]
     },
     "execution_count": 23,
     "metadata": {},
     "output_type": "execute_result"
    }
   ],
   "source": [
    "auto_homi_df.max()"
   ]
  },
  {
   "cell_type": "code",
   "execution_count": 24,
   "metadata": {},
   "outputs": [],
   "source": [
    "Ho = 'Countries with a high happiness score have less homicides'\n",
    "Ha = 'Countries with a high happiness score have more homicides'\n",
    "null = 'Happiness does not determine homicide rate'"
   ]
  },
  {
   "cell_type": "code",
   "execution_count": 25,
   "metadata": {},
   "outputs": [
    {
     "name": "stdout",
     "output_type": "stream",
     "text": [
      "The r-squared is: -0.10314233101145907\n",
      "The equation of the regression line is: y = -0.01x + 5.48\n",
      "The p-value is: 0.23743547321858424\n"
     ]
    },
    {
     "data": {
      "image/png": "[encoded data removed]",
      "text/plain": [
       "<Figure size 576x360 with 1 Axes>"
      ]
     },
     "metadata": {
      "needs_background": "light"
     },
     "output_type": "display_data"
    }
   ],
   "source": [
    "linearRegrassionPlot(auto_homi_df['Male and Female Homicides Per Capita (per 100,000)'], auto_homi_df['Happiness Score'], 'Happiness Vs Homicides', 'Homicides', 'Happiness', 'Homicides_Overall')"
   ]
  },
  {
   "cell_type": "code",
   "execution_count": 26,
   "metadata": {},
   "outputs": [],
   "source": [
    "null = 'Happiness does not determine homicide rate'"
   ]
  },
  {
   "cell_type": "code",
   "execution_count": 27,
   "metadata": {},
   "outputs": [
    {
     "data": {
      "text/plain": [
       "<matplotlib.axes._subplots.AxesSubplot at 0x2059e213fd0>"
      ]
     },
     "execution_count": 27,
     "metadata": {},
     "output_type": "execute_result"
    },
    {
     "data": {
      "image/png": "[encoded data removed]",
      "text/plain": [
       "<Figure size 432x288 with 1 Axes>"
      ]
     },
     "metadata": {
      "needs_background": "light"
     },
     "output_type": "display_data"
    }
   ],
   "source": [
    "grph_df.plot.bar()"
   ]
  },
  {
   "cell_type": "code",
   "execution_count": 28,
   "metadata": {},
   "outputs": [
    {
     "data": {
      "text/plain": [
       "Country                                                      Denmark\n",
       "Region                                                Western Europe\n",
       "Happiness Rank                                                     1\n",
       "Happiness Score                                                7.526\n",
       "Estimated number of road traffic deaths                          196\n",
       "Auto Deaths Per Capita (per 100,000)                               4\n",
       "Male and Female Homicides Per Capita (per 100,000)               0.8\n",
       "Male Homicides Per Capita (per 100,000)                          0.9\n",
       "Female Homicides Per Capita (per 100,000)                        0.7\n",
       "Name: 0, dtype: object"
      ]
     },
     "execution_count": 28,
     "metadata": {},
     "output_type": "execute_result"
    }
   ],
   "source": [
    "#Highest happiness score\n",
    "auto_homi_df.loc[auto_homi_df['Happiness Score'].idxmax()]"
   ]
  },
  {
   "cell_type": "code",
   "execution_count": 29,
   "metadata": {},
   "outputs": [
    {
     "data": {
      "text/plain": [
       "Country                                                          Burundi\n",
       "Region                                                Sub-Saharan Africa\n",
       "Happiness Rank                                                       157\n",
       "Happiness Score                                                    2.905\n",
       "Estimated number of road traffic deaths                                0\n",
       "Auto Deaths Per Capita (per 100,000)                                34.7\n",
       "Male and Female Homicides Per Capita (per 100,000)                   6.6\n",
       "Male Homicides Per Capita (per 100,000)                             10.1\n",
       "Female Homicides Per Capita (per 100,000)                            3.1\n",
       "Name: 132, dtype: object"
      ]
     },
     "execution_count": 29,
     "metadata": {},
     "output_type": "execute_result"
    }
   ],
   "source": [
    "#Lowest happiness score\n",
    "auto_homi_df.loc[auto_homi_df['Happiness Score'].idxmin()]"
   ]
  },
  {
   "cell_type": "code",
   "execution_count": null,
   "metadata": {},
   "outputs": [],
   "source": []
  }
 ],
 "metadata": {
  "kernelspec": {
   "display_name": "Python 3",
   "language": "python",
   "name": "python3"
  },
  "language_info": {
   "codemirror_mode": {
    "name": "ipython",
    "version": 3
   },
   "file_extension": ".py",
   "mimetype": "text/x-python",
   "name": "python",
   "nbconvert_exporter": "python",
   "pygments_lexer": "ipython3",
   "version": "3.7.3"
  }
 },
 "nbformat": 4,
 "nbformat_minor": 2
}
