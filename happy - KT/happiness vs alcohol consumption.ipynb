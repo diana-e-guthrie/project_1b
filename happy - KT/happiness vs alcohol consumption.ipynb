{
 "cells": [
  {
   "cell_type": "code",
   "execution_count": 13,
   "metadata": {},
   "outputs": [],
   "source": [
    "#Dependencies\n",
    "import pandas as pd\n",
    "import matplotlib.pyplot as plt\n",
    "from scipy.stats import linregress\n",
    "import numpy as np"
   ]
  },
  {
   "cell_type": "code",
   "execution_count": 14,
   "metadata": {},
   "outputs": [
    {
     "data": {
      "text/html": [
       "<div>\n",
       "<style scoped>\n",
       "    .dataframe tbody tr th:only-of-type {\n",
       "        vertical-align: middle;\n",
       "    }\n",
       "\n",
       "    .dataframe tbody tr th {\n",
       "        vertical-align: top;\n",
       "    }\n",
       "\n",
       "    .dataframe thead th {\n",
       "        text-align: right;\n",
       "    }\n",
       "</style>\n",
       "<table border=\"1\" class=\"dataframe\">\n",
       "  <thead>\n",
       "    <tr style=\"text-align: right;\">\n",
       "      <th></th>\n",
       "      <th>Entity</th>\n",
       "      <th>Code</th>\n",
       "      <th>Year</th>\n",
       "      <th>Alcohol consumption (litres per capita) (liters of pure alcohol, projected estimates, 15+ years of age)</th>\n",
       "    </tr>\n",
       "  </thead>\n",
       "  <tbody>\n",
       "    <tr>\n",
       "      <th>0</th>\n",
       "      <td>Afghanistan</td>\n",
       "      <td>AFG</td>\n",
       "      <td>2016</td>\n",
       "      <td>0.2</td>\n",
       "    </tr>\n",
       "    <tr>\n",
       "      <th>1</th>\n",
       "      <td>Albania</td>\n",
       "      <td>ALB</td>\n",
       "      <td>2016</td>\n",
       "      <td>7.5</td>\n",
       "    </tr>\n",
       "    <tr>\n",
       "      <th>2</th>\n",
       "      <td>Algeria</td>\n",
       "      <td>DZA</td>\n",
       "      <td>2016</td>\n",
       "      <td>0.9</td>\n",
       "    </tr>\n",
       "    <tr>\n",
       "      <th>3</th>\n",
       "      <td>Andorra</td>\n",
       "      <td>AND</td>\n",
       "      <td>2016</td>\n",
       "      <td>11.3</td>\n",
       "    </tr>\n",
       "    <tr>\n",
       "      <th>4</th>\n",
       "      <td>Angola</td>\n",
       "      <td>AGO</td>\n",
       "      <td>2016</td>\n",
       "      <td>6.4</td>\n",
       "    </tr>\n",
       "  </tbody>\n",
       "</table>\n",
       "</div>"
      ],
      "text/plain": [
       "        Entity Code  Year  \\\n",
       "0  Afghanistan  AFG  2016   \n",
       "1      Albania  ALB  2016   \n",
       "2      Algeria  DZA  2016   \n",
       "3      Andorra  AND  2016   \n",
       "4       Angola  AGO  2016   \n",
       "\n",
       "   Alcohol consumption (litres per capita) (liters of pure alcohol, projected estimates, 15+ years of age)  \n",
       "0                                                0.2                                                        \n",
       "1                                                7.5                                                        \n",
       "2                                                0.9                                                        \n",
       "3                                               11.3                                                        \n",
       "4                                                6.4                                                        "
      ]
     },
     "execution_count": 14,
     "metadata": {},
     "output_type": "execute_result"
    }
   ],
   "source": [
    "#Load data\n",
    "happy16=pd.DataFrame(pd.read_csv('CSVs/Happiness_2016.csv'))\n",
    "alcohol=pd.DataFrame(pd.read_csv('CSVs/total-alcohol-consumption-per-capita-litres-of-pure-alcohol.csv'))\n",
    "alcohol.head()"
   ]
  },
  {
   "cell_type": "code",
   "execution_count": 15,
   "metadata": {},
   "outputs": [
    {
     "data": {
      "text/html": [
       "<div>\n",
       "<style scoped>\n",
       "    .dataframe tbody tr th:only-of-type {\n",
       "        vertical-align: middle;\n",
       "    }\n",
       "\n",
       "    .dataframe tbody tr th {\n",
       "        vertical-align: top;\n",
       "    }\n",
       "\n",
       "    .dataframe thead th {\n",
       "        text-align: right;\n",
       "    }\n",
       "</style>\n",
       "<table border=\"1\" class=\"dataframe\">\n",
       "  <thead>\n",
       "    <tr style=\"text-align: right;\">\n",
       "      <th></th>\n",
       "      <th>Country</th>\n",
       "      <th>Code</th>\n",
       "      <th>Alcohol consumption (litres per capita)</th>\n",
       "    </tr>\n",
       "  </thead>\n",
       "  <tbody>\n",
       "    <tr>\n",
       "      <th>0</th>\n",
       "      <td>Afghanistan</td>\n",
       "      <td>AFG</td>\n",
       "      <td>0.2</td>\n",
       "    </tr>\n",
       "    <tr>\n",
       "      <th>1</th>\n",
       "      <td>Albania</td>\n",
       "      <td>ALB</td>\n",
       "      <td>7.5</td>\n",
       "    </tr>\n",
       "    <tr>\n",
       "      <th>2</th>\n",
       "      <td>Algeria</td>\n",
       "      <td>DZA</td>\n",
       "      <td>0.9</td>\n",
       "    </tr>\n",
       "    <tr>\n",
       "      <th>3</th>\n",
       "      <td>Andorra</td>\n",
       "      <td>AND</td>\n",
       "      <td>11.3</td>\n",
       "    </tr>\n",
       "    <tr>\n",
       "      <th>4</th>\n",
       "      <td>Angola</td>\n",
       "      <td>AGO</td>\n",
       "      <td>6.4</td>\n",
       "    </tr>\n",
       "  </tbody>\n",
       "</table>\n",
       "</div>"
      ],
      "text/plain": [
       "       Country Code  Alcohol consumption (litres per capita)\n",
       "0  Afghanistan  AFG                                      0.2\n",
       "1      Albania  ALB                                      7.5\n",
       "2      Algeria  DZA                                      0.9\n",
       "3      Andorra  AND                                     11.3\n",
       "4       Angola  AGO                                      6.4"
      ]
     },
     "execution_count": 15,
     "metadata": {},
     "output_type": "execute_result"
    }
   ],
   "source": [
    "#Clean alcohol dataframe\n",
    "alcohol=alcohol.rename(columns={'Entity':'Country','Alcohol consumption (litres per capita) (liters of pure alcohol, projected estimates, 15+ years of age)':'Alcohol consumption (litres per capita)'})\n",
    "alcohol=alcohol[['Country','Code','Alcohol consumption (litres per capita)']]\n",
    "alcohol.head()"
   ]
  },
  {
   "cell_type": "code",
   "execution_count": 16,
   "metadata": {},
   "outputs": [
    {
     "data": {
      "text/html": [
       "<div>\n",
       "<style scoped>\n",
       "    .dataframe tbody tr th:only-of-type {\n",
       "        vertical-align: middle;\n",
       "    }\n",
       "\n",
       "    .dataframe tbody tr th {\n",
       "        vertical-align: top;\n",
       "    }\n",
       "\n",
       "    .dataframe thead th {\n",
       "        text-align: right;\n",
       "    }\n",
       "</style>\n",
       "<table border=\"1\" class=\"dataframe\">\n",
       "  <thead>\n",
       "    <tr style=\"text-align: right;\">\n",
       "      <th></th>\n",
       "      <th>Country</th>\n",
       "      <th>2016 Happiness Score</th>\n",
       "    </tr>\n",
       "  </thead>\n",
       "  <tbody>\n",
       "    <tr>\n",
       "      <th>0</th>\n",
       "      <td>Denmark</td>\n",
       "      <td>7.526</td>\n",
       "    </tr>\n",
       "    <tr>\n",
       "      <th>1</th>\n",
       "      <td>Switzerland</td>\n",
       "      <td>7.509</td>\n",
       "    </tr>\n",
       "    <tr>\n",
       "      <th>2</th>\n",
       "      <td>Iceland</td>\n",
       "      <td>7.501</td>\n",
       "    </tr>\n",
       "    <tr>\n",
       "      <th>3</th>\n",
       "      <td>Norway</td>\n",
       "      <td>7.498</td>\n",
       "    </tr>\n",
       "    <tr>\n",
       "      <th>4</th>\n",
       "      <td>Finland</td>\n",
       "      <td>7.413</td>\n",
       "    </tr>\n",
       "  </tbody>\n",
       "</table>\n",
       "</div>"
      ],
      "text/plain": [
       "       Country  2016 Happiness Score\n",
       "0      Denmark                 7.526\n",
       "1  Switzerland                 7.509\n",
       "2      Iceland                 7.501\n",
       "3       Norway                 7.498\n",
       "4      Finland                 7.413"
      ]
     },
     "execution_count": 16,
     "metadata": {},
     "output_type": "execute_result"
    }
   ],
   "source": [
    "#Clean happiness dataframe for 2016\n",
    "country_happy16=happy16[['Country','Happiness Score']]\n",
    "country_happy16=country_happy16.rename(columns={'Happiness Score':'2016 Happiness Score'})\n",
    "country_happy16.head()"
   ]
  },
  {
   "cell_type": "code",
   "execution_count": 17,
   "metadata": {},
   "outputs": [
    {
     "data": {
      "text/html": [
       "<div>\n",
       "<style scoped>\n",
       "    .dataframe tbody tr th:only-of-type {\n",
       "        vertical-align: middle;\n",
       "    }\n",
       "\n",
       "    .dataframe tbody tr th {\n",
       "        vertical-align: top;\n",
       "    }\n",
       "\n",
       "    .dataframe thead th {\n",
       "        text-align: right;\n",
       "    }\n",
       "</style>\n",
       "<table border=\"1\" class=\"dataframe\">\n",
       "  <thead>\n",
       "    <tr style=\"text-align: right;\">\n",
       "      <th></th>\n",
       "      <th>Country</th>\n",
       "      <th>2016 Happiness Score</th>\n",
       "      <th>Happiness score</th>\n",
       "      <th>Code</th>\n",
       "    </tr>\n",
       "  </thead>\n",
       "  <tbody>\n",
       "    <tr>\n",
       "      <th>0</th>\n",
       "      <td>Denmark</td>\n",
       "      <td>7.526</td>\n",
       "      <td>7.600</td>\n",
       "      <td>DNK</td>\n",
       "    </tr>\n",
       "    <tr>\n",
       "      <th>1</th>\n",
       "      <td>Switzerland</td>\n",
       "      <td>7.509</td>\n",
       "      <td>7.480</td>\n",
       "      <td>CHE</td>\n",
       "    </tr>\n",
       "    <tr>\n",
       "      <th>2</th>\n",
       "      <td>Iceland</td>\n",
       "      <td>7.501</td>\n",
       "      <td>7.494</td>\n",
       "      <td>ISL</td>\n",
       "    </tr>\n",
       "    <tr>\n",
       "      <th>3</th>\n",
       "      <td>Norway</td>\n",
       "      <td>7.498</td>\n",
       "      <td>7.554</td>\n",
       "      <td>NOR</td>\n",
       "    </tr>\n",
       "    <tr>\n",
       "      <th>4</th>\n",
       "      <td>Finland</td>\n",
       "      <td>7.413</td>\n",
       "      <td>7.769</td>\n",
       "      <td>FIN</td>\n",
       "    </tr>\n",
       "  </tbody>\n",
       "</table>\n",
       "</div>"
      ],
      "text/plain": [
       "       Country  2016 Happiness Score  Happiness score Code\n",
       "0      Denmark                 7.526            7.600  DNK\n",
       "1  Switzerland                 7.509            7.480  CHE\n",
       "2      Iceland                 7.501            7.494  ISL\n",
       "3       Norway                 7.498            7.554  NOR\n",
       "4      Finland                 7.413            7.769  FIN"
      ]
     },
     "execution_count": 17,
     "metadata": {},
     "output_type": "execute_result"
    }
   ],
   "source": [
    "#Read CSV with ISO country codes, merge with happiness dataframe for 2016\n",
    "iso=pd.read_csv('CSVs/country_iso.csv')\n",
    "iso=iso.drop(['Unnamed: 0'], axis=1)\n",
    "iso=iso.rename(columns={'iso_a3':'Code'})\n",
    "happy=pd.merge(country_happy16, iso, on='Country', how='inner')\n",
    "happy.head()"
   ]
  },
  {
   "cell_type": "code",
   "execution_count": 18,
   "metadata": {},
   "outputs": [
    {
     "data": {
      "text/html": [
       "<div>\n",
       "<style scoped>\n",
       "    .dataframe tbody tr th:only-of-type {\n",
       "        vertical-align: middle;\n",
       "    }\n",
       "\n",
       "    .dataframe tbody tr th {\n",
       "        vertical-align: top;\n",
       "    }\n",
       "\n",
       "    .dataframe thead th {\n",
       "        text-align: right;\n",
       "    }\n",
       "</style>\n",
       "<table border=\"1\" class=\"dataframe\">\n",
       "  <thead>\n",
       "    <tr style=\"text-align: right;\">\n",
       "      <th></th>\n",
       "      <th>Country_x</th>\n",
       "      <th>2016 Happiness Score</th>\n",
       "      <th>Happiness score</th>\n",
       "      <th>Code</th>\n",
       "      <th>Country_y</th>\n",
       "      <th>Alcohol consumption (litres per capita)</th>\n",
       "    </tr>\n",
       "  </thead>\n",
       "  <tbody>\n",
       "    <tr>\n",
       "      <th>0</th>\n",
       "      <td>Denmark</td>\n",
       "      <td>7.526</td>\n",
       "      <td>7.600</td>\n",
       "      <td>DNK</td>\n",
       "      <td>Denmark</td>\n",
       "      <td>10.4</td>\n",
       "    </tr>\n",
       "    <tr>\n",
       "      <th>1</th>\n",
       "      <td>Switzerland</td>\n",
       "      <td>7.509</td>\n",
       "      <td>7.480</td>\n",
       "      <td>CHE</td>\n",
       "      <td>Switzerland</td>\n",
       "      <td>11.5</td>\n",
       "    </tr>\n",
       "    <tr>\n",
       "      <th>2</th>\n",
       "      <td>Iceland</td>\n",
       "      <td>7.501</td>\n",
       "      <td>7.494</td>\n",
       "      <td>ISL</td>\n",
       "      <td>Iceland</td>\n",
       "      <td>9.1</td>\n",
       "    </tr>\n",
       "    <tr>\n",
       "      <th>3</th>\n",
       "      <td>Norway</td>\n",
       "      <td>7.498</td>\n",
       "      <td>7.554</td>\n",
       "      <td>NOR</td>\n",
       "      <td>Norway</td>\n",
       "      <td>7.5</td>\n",
       "    </tr>\n",
       "    <tr>\n",
       "      <th>4</th>\n",
       "      <td>Finland</td>\n",
       "      <td>7.413</td>\n",
       "      <td>7.769</td>\n",
       "      <td>FIN</td>\n",
       "      <td>Finland</td>\n",
       "      <td>10.7</td>\n",
       "    </tr>\n",
       "  </tbody>\n",
       "</table>\n",
       "</div>"
      ],
      "text/plain": [
       "     Country_x  2016 Happiness Score  Happiness score Code    Country_y  \\\n",
       "0      Denmark                 7.526            7.600  DNK      Denmark   \n",
       "1  Switzerland                 7.509            7.480  CHE  Switzerland   \n",
       "2      Iceland                 7.501            7.494  ISL      Iceland   \n",
       "3       Norway                 7.498            7.554  NOR       Norway   \n",
       "4      Finland                 7.413            7.769  FIN      Finland   \n",
       "\n",
       "   Alcohol consumption (litres per capita)  \n",
       "0                                     10.4  \n",
       "1                                     11.5  \n",
       "2                                      9.1  \n",
       "3                                      7.5  \n",
       "4                                     10.7  "
      ]
     },
     "execution_count": 18,
     "metadata": {},
     "output_type": "execute_result"
    }
   ],
   "source": [
    "#Merge happiness and alcohol data\n",
    "happy_alcohol = pd.merge(happy, alcohol, on='Code', how='inner')\n",
    "happy_alcohol = happy_alcohol.replace(r'^\\s*$', np.nan, regex=True)\n",
    "happy_alcohol = happy_alcohol.dropna(how='any')\n",
    "happy_alcohol.head()"
   ]
  },
  {
   "cell_type": "code",
   "execution_count": 20,
   "metadata": {},
   "outputs": [
    {
     "data": {
      "image/png": "[encoded data removed]",
      "text/plain": [
       "<Figure size 432x288 with 1 Axes>"
      ]
     },
     "metadata": {
      "needs_background": "light"
     },
     "output_type": "display_data"
    },
    {
     "name": "stdout",
     "output_type": "stream",
     "text": [
      "R-value: 0.3376821579036604, P-value: 3.271148483353906e-05\n"
     ]
    }
   ],
   "source": [
    "#Linear Regression!\n",
    "y_values=happy_alcohol['2016 Happiness Score']\n",
    "x_values=happy_alcohol['Alcohol consumption (litres per capita)']\n",
    "\n",
    "(slope, intercept, rvalue, pvalue, stderr) = linregress(x_values, y_values)\n",
    "regress_values = x_values * slope + intercept\n",
    "line_eq = \"y = \" + str(round(slope,2)) + \"x + \" + str(round(intercept,2))\n",
    "plt.scatter(x_values,y_values)\n",
    "plt.plot(x_values,regress_values,\"r-\")\n",
    "plt.title('Happiness vs Alcohol Consumption')\n",
    "plt.xlabel('Alcohol consumption (litres per capita)')\n",
    "plt.ylabel('Happiness Score')\n",
    "r_value=(f\"r-value: {rvalue}\")\n",
    "p_value=(f\"p-value: {pvalue}\")\n",
    "plt.annotate(line_eq,(0,7.25),fontsize=15,color=\"red\")\n",
    "plt.annotate(r_value,(6,3.25),fontsize=12,color=\"red\")\n",
    "plt.annotate(p_value,(6,3),fontsize=12,color=\"red\")\n",
    "plt.grid()\n",
    "plt.savefig('Images/alcohol.png')\n",
    "plt.show()\n",
    "print(f\"R-value: {rvalue}, P-value: {pvalue}\")"
   ]
  },
  {
   "cell_type": "code",
   "execution_count": 21,
   "metadata": {},
   "outputs": [
    {
     "data": {
      "text/plain": [
       "145"
      ]
     },
     "execution_count": 21,
     "metadata": {},
     "output_type": "execute_result"
    }
   ],
   "source": [
    "#Moderate positive correlation!\n",
    "len(happy_alcohol)"
   ]
  },
  {
   "cell_type": "code",
   "execution_count": 24,
   "metadata": {},
   "outputs": [
    {
     "data": {
      "text/html": [
       "<div>\n",
       "<style scoped>\n",
       "    .dataframe tbody tr th:only-of-type {\n",
       "        vertical-align: middle;\n",
       "    }\n",
       "\n",
       "    .dataframe tbody tr th {\n",
       "        vertical-align: top;\n",
       "    }\n",
       "\n",
       "    .dataframe thead th {\n",
       "        text-align: right;\n",
       "    }\n",
       "</style>\n",
       "<table border=\"1\" class=\"dataframe\">\n",
       "  <thead>\n",
       "    <tr style=\"text-align: right;\">\n",
       "      <th></th>\n",
       "      <th>pop_est</th>\n",
       "      <th>continent</th>\n",
       "      <th>name</th>\n",
       "      <th>Code</th>\n",
       "      <th>gdp_md_est</th>\n",
       "      <th>geometry</th>\n",
       "      <th>Country_x</th>\n",
       "      <th>2016 Happiness Score</th>\n",
       "      <th>Happiness score</th>\n",
       "      <th>Country_y</th>\n",
       "      <th>Alcohol consumption (litres per capita)</th>\n",
       "    </tr>\n",
       "  </thead>\n",
       "  <tbody>\n",
       "    <tr>\n",
       "      <th>0</th>\n",
       "      <td>53950935</td>\n",
       "      <td>Africa</td>\n",
       "      <td>Tanzania</td>\n",
       "      <td>TZA</td>\n",
       "      <td>150600.0</td>\n",
       "      <td>POLYGON ((33.90371 -0.95000, 34.07262 -1.05982...</td>\n",
       "      <td>Tanzania</td>\n",
       "      <td>3.666</td>\n",
       "      <td>3.231</td>\n",
       "      <td>Tanzania</td>\n",
       "      <td>9.4</td>\n",
       "    </tr>\n",
       "    <tr>\n",
       "      <th>1</th>\n",
       "      <td>35623680</td>\n",
       "      <td>North America</td>\n",
       "      <td>Canada</td>\n",
       "      <td>CAN</td>\n",
       "      <td>1674000.0</td>\n",
       "      <td>MULTIPOLYGON (((-122.84000 49.00000, -122.9742...</td>\n",
       "      <td>Canada</td>\n",
       "      <td>7.404</td>\n",
       "      <td>7.278</td>\n",
       "      <td>Canada</td>\n",
       "      <td>8.9</td>\n",
       "    </tr>\n",
       "    <tr>\n",
       "      <th>2</th>\n",
       "      <td>326625791</td>\n",
       "      <td>North America</td>\n",
       "      <td>United States of America</td>\n",
       "      <td>USA</td>\n",
       "      <td>18560000.0</td>\n",
       "      <td>MULTIPOLYGON (((-122.84000 49.00000, -120.0000...</td>\n",
       "      <td>United States</td>\n",
       "      <td>7.104</td>\n",
       "      <td>6.892</td>\n",
       "      <td>United States</td>\n",
       "      <td>9.8</td>\n",
       "    </tr>\n",
       "    <tr>\n",
       "      <th>3</th>\n",
       "      <td>18556698</td>\n",
       "      <td>Asia</td>\n",
       "      <td>Kazakhstan</td>\n",
       "      <td>KAZ</td>\n",
       "      <td>460700.0</td>\n",
       "      <td>POLYGON ((87.35997 49.21498, 86.59878 48.54918...</td>\n",
       "      <td>Kazakhstan</td>\n",
       "      <td>5.919</td>\n",
       "      <td>5.809</td>\n",
       "      <td>Kazakhstan</td>\n",
       "      <td>7.7</td>\n",
       "    </tr>\n",
       "    <tr>\n",
       "      <th>4</th>\n",
       "      <td>29748859</td>\n",
       "      <td>Asia</td>\n",
       "      <td>Uzbekistan</td>\n",
       "      <td>UZB</td>\n",
       "      <td>202300.0</td>\n",
       "      <td>POLYGON ((55.96819 41.30864, 55.92892 44.99586...</td>\n",
       "      <td>Uzbekistan</td>\n",
       "      <td>5.987</td>\n",
       "      <td>6.174</td>\n",
       "      <td>Uzbekistan</td>\n",
       "      <td>2.7</td>\n",
       "    </tr>\n",
       "  </tbody>\n",
       "</table>\n",
       "</div>"
      ],
      "text/plain": [
       "     pop_est      continent                      name Code  gdp_md_est  \\\n",
       "0   53950935         Africa                  Tanzania  TZA    150600.0   \n",
       "1   35623680  North America                    Canada  CAN   1674000.0   \n",
       "2  326625791  North America  United States of America  USA  18560000.0   \n",
       "3   18556698           Asia                Kazakhstan  KAZ    460700.0   \n",
       "4   29748859           Asia                Uzbekistan  UZB    202300.0   \n",
       "\n",
       "                                            geometry      Country_x  \\\n",
       "0  POLYGON ((33.90371 -0.95000, 34.07262 -1.05982...       Tanzania   \n",
       "1  MULTIPOLYGON (((-122.84000 49.00000, -122.9742...         Canada   \n",
       "2  MULTIPOLYGON (((-122.84000 49.00000, -120.0000...  United States   \n",
       "3  POLYGON ((87.35997 49.21498, 86.59878 48.54918...     Kazakhstan   \n",
       "4  POLYGON ((55.96819 41.30864, 55.92892 44.99586...     Uzbekistan   \n",
       "\n",
       "   2016 Happiness Score  Happiness score      Country_y  \\\n",
       "0                 3.666            3.231       Tanzania   \n",
       "1                 7.404            7.278         Canada   \n",
       "2                 7.104            6.892  United States   \n",
       "3                 5.919            5.809     Kazakhstan   \n",
       "4                 5.987            6.174     Uzbekistan   \n",
       "\n",
       "   Alcohol consumption (litres per capita)  \n",
       "0                                      9.4  \n",
       "1                                      8.9  \n",
       "2                                      9.8  \n",
       "3                                      7.7  \n",
       "4                                      2.7  "
      ]
     },
     "execution_count": 24,
     "metadata": {},
     "output_type": "execute_result"
    }
   ],
   "source": [
    "#import dataset with geographic info to plot chorograph\n",
    "import geopandas \n",
    "\n",
    "world = geopandas.read_file(geopandas.datasets.get_path('naturalearth_lowres'))\n",
    "world = world.rename(columns={'iso_a3':'Code'}) \n",
    "world = pd.merge(world, happy_alcohol, on='Code', how='inner')\n",
    "world.head()"
   ]
  },
  {
   "cell_type": "code",
   "execution_count": 29,
   "metadata": {},
   "outputs": [
    {
     "data": {
      "image/png": "[encoded data removed]",
      "text/plain": [
       "<Figure size 432x288 with 2 Axes>"
      ]
     },
     "metadata": {
      "needs_background": "light"
     },
     "output_type": "display_data"
    }
   ],
   "source": [
    "#Chorograph of Air Pollution\n",
    "fig, ax = plt.subplots(1,1)\n",
    "world.plot(column='Alcohol consumption (litres per capita)', ax=ax, legend=True, cmap='plasma',\n",
    "           legend_kwds={'label': \"Alcohol consumption (litres per capita)\",'orientation': \"horizontal\"})\n",
    "plt.savefig('Images/alcohol_consumption_map.png')"
   ]
  },
  {
   "cell_type": "code",
   "execution_count": 28,
   "metadata": {},
   "outputs": [
    {
     "data": {
      "image/png": "[encoded data removed]",
      "text/plain": [
       "<Figure size 432x288 with 2 Axes>"
      ]
     },
     "metadata": {
      "needs_background": "light"
     },
     "output_type": "display_data"
    }
   ],
   "source": [
    "fig, ax = plt.subplots(1,1)\n",
    "world.plot(column='2016 Happiness Score', ax=ax, legend=True, cmap='plasma',\n",
    "           legend_kwds={'label': \"2016 Happiness Score\",'orientation': \"horizontal\"})\n",
    "plt.savefig('Images/2016_happiness_map.png')"
   ]
  },
  {
   "cell_type": "code",
   "execution_count": null,
   "metadata": {},
   "outputs": [],
   "source": []
  }
 ],
 "metadata": {
  "kernelspec": {
   "display_name": "Python 3",
   "language": "python",
   "name": "python3"
  },
  "language_info": {
   "codemirror_mode": {
    "name": "ipython",
    "version": 3
   },
   "file_extension": ".py",
   "mimetype": "text/x-python",
   "name": "python",
   "nbconvert_exporter": "python",
   "pygments_lexer": "ipython3",
   "version": "3.7.3"
  }
 },
 "nbformat": 4,
 "nbformat_minor": 2
}
