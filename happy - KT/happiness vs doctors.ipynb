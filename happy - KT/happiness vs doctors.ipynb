{
 "cells": [
  {
   "cell_type": "code",
   "execution_count": 1,
   "metadata": {},
   "outputs": [],
   "source": [
    "#Dependencies\n",
    "import pandas as pd\n",
    "import matplotlib.pyplot as plt\n",
    "from scipy.stats import linregress\n",
    "import numpy as np"
   ]
  },
  {
   "cell_type": "code",
   "execution_count": 2,
   "metadata": {},
   "outputs": [
    {
     "data": {
      "text/html": [
       "<div>\n",
       "<style scoped>\n",
       "    .dataframe tbody tr th:only-of-type {\n",
       "        vertical-align: middle;\n",
       "    }\n",
       "\n",
       "    .dataframe tbody tr th {\n",
       "        vertical-align: top;\n",
       "    }\n",
       "\n",
       "    .dataframe thead th {\n",
       "        text-align: right;\n",
       "    }\n",
       "</style>\n",
       "<table border=\"1\" class=\"dataframe\">\n",
       "  <thead>\n",
       "    <tr style=\"text-align: right;\">\n",
       "      <th></th>\n",
       "      <th>Entity</th>\n",
       "      <th>Code</th>\n",
       "      <th>Year</th>\n",
       "      <th>Physicians (per 1,000 people) (per 1,000 people)</th>\n",
       "    </tr>\n",
       "  </thead>\n",
       "  <tbody>\n",
       "    <tr>\n",
       "      <th>0</th>\n",
       "      <td>Afghanistan</td>\n",
       "      <td>AFG</td>\n",
       "      <td>1960</td>\n",
       "      <td>0.035</td>\n",
       "    </tr>\n",
       "    <tr>\n",
       "      <th>1</th>\n",
       "      <td>Afghanistan</td>\n",
       "      <td>AFG</td>\n",
       "      <td>1965</td>\n",
       "      <td>0.063</td>\n",
       "    </tr>\n",
       "    <tr>\n",
       "      <th>2</th>\n",
       "      <td>Afghanistan</td>\n",
       "      <td>AFG</td>\n",
       "      <td>1970</td>\n",
       "      <td>0.065</td>\n",
       "    </tr>\n",
       "    <tr>\n",
       "      <th>3</th>\n",
       "      <td>Afghanistan</td>\n",
       "      <td>AFG</td>\n",
       "      <td>1981</td>\n",
       "      <td>0.077</td>\n",
       "    </tr>\n",
       "    <tr>\n",
       "      <th>4</th>\n",
       "      <td>Afghanistan</td>\n",
       "      <td>AFG</td>\n",
       "      <td>1986</td>\n",
       "      <td>0.183</td>\n",
       "    </tr>\n",
       "  </tbody>\n",
       "</table>\n",
       "</div>"
      ],
      "text/plain": [
       "        Entity Code  Year  Physicians (per 1,000 people) (per 1,000 people)\n",
       "0  Afghanistan  AFG  1960                                             0.035\n",
       "1  Afghanistan  AFG  1965                                             0.063\n",
       "2  Afghanistan  AFG  1970                                             0.065\n",
       "3  Afghanistan  AFG  1981                                             0.077\n",
       "4  Afghanistan  AFG  1986                                             0.183"
      ]
     },
     "execution_count": 2,
     "metadata": {},
     "output_type": "execute_result"
    }
   ],
   "source": [
    "#Import CSV data\n",
    "happy15=pd.DataFrame(pd.read_csv('CSVs/Happiness_2015.csv'))\n",
    "doctors=pd.DataFrame(pd.read_csv('CSVs/physicians-per-1000-people.csv'))\n",
    "doctors.head()"
   ]
  },
  {
   "cell_type": "code",
   "execution_count": 6,
   "metadata": {},
   "outputs": [
    {
     "data": {
      "text/html": [
       "<div>\n",
       "<style scoped>\n",
       "    .dataframe tbody tr th:only-of-type {\n",
       "        vertical-align: middle;\n",
       "    }\n",
       "\n",
       "    .dataframe tbody tr th {\n",
       "        vertical-align: top;\n",
       "    }\n",
       "\n",
       "    .dataframe thead th {\n",
       "        text-align: right;\n",
       "    }\n",
       "</style>\n",
       "<table border=\"1\" class=\"dataframe\">\n",
       "  <thead>\n",
       "    <tr style=\"text-align: right;\">\n",
       "      <th></th>\n",
       "      <th>Country</th>\n",
       "      <th>Code</th>\n",
       "      <th>Physicians (per 1,000 people)</th>\n",
       "    </tr>\n",
       "  </thead>\n",
       "  <tbody>\n",
       "    <tr>\n",
       "      <th>20</th>\n",
       "      <td>Afghanistan</td>\n",
       "      <td>AFG</td>\n",
       "      <td>0.302</td>\n",
       "    </tr>\n",
       "    <tr>\n",
       "      <th>77</th>\n",
       "      <td>Andorra</td>\n",
       "      <td>AND</td>\n",
       "      <td>3.690</td>\n",
       "    </tr>\n",
       "    <tr>\n",
       "      <th>176</th>\n",
       "      <td>Australia</td>\n",
       "      <td>AUS</td>\n",
       "      <td>3.496</td>\n",
       "    </tr>\n",
       "    <tr>\n",
       "      <th>228</th>\n",
       "      <td>Austria</td>\n",
       "      <td>AUT</td>\n",
       "      <td>5.150</td>\n",
       "    </tr>\n",
       "    <tr>\n",
       "      <th>290</th>\n",
       "      <td>Bahrain</td>\n",
       "      <td>BHR</td>\n",
       "      <td>0.922</td>\n",
       "    </tr>\n",
       "  </tbody>\n",
       "</table>\n",
       "</div>"
      ],
      "text/plain": [
       "         Country Code  Physicians (per 1,000 people)\n",
       "20   Afghanistan  AFG                          0.302\n",
       "77       Andorra  AND                          3.690\n",
       "176    Australia  AUS                          3.496\n",
       "228      Austria  AUT                          5.150\n",
       "290      Bahrain  BHR                          0.922"
      ]
     },
     "execution_count": 6,
     "metadata": {},
     "output_type": "execute_result"
    }
   ],
   "source": [
    "#Clean up physicians dataframe\n",
    "doctors=doctors[doctors['Year']==2015]\n",
    "doctors=doctors.rename(columns={'Entity':'Country', 'Physicians (per 1,000 people) (per 1,000 people)':'Physicians (per 1,000 people)'})\n",
    "doctors2=doctors[['Country','Code','Physicians (per 1,000 people)']]\n",
    "doctors2.head()\n"
   ]
  },
  {
   "cell_type": "code",
   "execution_count": 9,
   "metadata": {},
   "outputs": [
    {
     "data": {
      "text/html": [
       "<div>\n",
       "<style scoped>\n",
       "    .dataframe tbody tr th:only-of-type {\n",
       "        vertical-align: middle;\n",
       "    }\n",
       "\n",
       "    .dataframe tbody tr th {\n",
       "        vertical-align: top;\n",
       "    }\n",
       "\n",
       "    .dataframe thead th {\n",
       "        text-align: right;\n",
       "    }\n",
       "</style>\n",
       "<table border=\"1\" class=\"dataframe\">\n",
       "  <thead>\n",
       "    <tr style=\"text-align: right;\">\n",
       "      <th></th>\n",
       "      <th>Country</th>\n",
       "      <th>2019 Happiness Score</th>\n",
       "      <th>Code</th>\n",
       "    </tr>\n",
       "  </thead>\n",
       "  <tbody>\n",
       "    <tr>\n",
       "      <th>0</th>\n",
       "      <td>Finland</td>\n",
       "      <td>7.769</td>\n",
       "      <td>FIN</td>\n",
       "    </tr>\n",
       "    <tr>\n",
       "      <th>1</th>\n",
       "      <td>Denmark</td>\n",
       "      <td>7.600</td>\n",
       "      <td>DNK</td>\n",
       "    </tr>\n",
       "    <tr>\n",
       "      <th>2</th>\n",
       "      <td>Norway</td>\n",
       "      <td>7.554</td>\n",
       "      <td>NOR</td>\n",
       "    </tr>\n",
       "    <tr>\n",
       "      <th>3</th>\n",
       "      <td>Iceland</td>\n",
       "      <td>7.494</td>\n",
       "      <td>ISL</td>\n",
       "    </tr>\n",
       "    <tr>\n",
       "      <th>4</th>\n",
       "      <td>Netherlands</td>\n",
       "      <td>7.488</td>\n",
       "      <td>NLD</td>\n",
       "    </tr>\n",
       "  </tbody>\n",
       "</table>\n",
       "</div>"
      ],
      "text/plain": [
       "       Country  2019 Happiness Score Code\n",
       "0      Finland                 7.769  FIN\n",
       "1      Denmark                 7.600  DNK\n",
       "2       Norway                 7.554  NOR\n",
       "3      Iceland                 7.494  ISL\n",
       "4  Netherlands                 7.488  NLD"
      ]
     },
     "execution_count": 9,
     "metadata": {},
     "output_type": "execute_result"
    }
   ],
   "source": [
    "#Import csv with ISO country codes\n",
    "iso=pd.read_csv('csvs/country_iso.csv')\n",
    "iso=iso.drop(['Unnamed: 0'], axis=1)\n",
    "iso=iso.rename(columns={'iso_a3':'Code', 'Happiness score':'2019 Happiness Score'})\n",
    "iso.head()"
   ]
  },
  {
   "cell_type": "code",
   "execution_count": 20,
   "metadata": {},
   "outputs": [
    {
     "data": {
      "text/html": [
       "<div>\n",
       "<style scoped>\n",
       "    .dataframe tbody tr th:only-of-type {\n",
       "        vertical-align: middle;\n",
       "    }\n",
       "\n",
       "    .dataframe tbody tr th {\n",
       "        vertical-align: top;\n",
       "    }\n",
       "\n",
       "    .dataframe thead th {\n",
       "        text-align: right;\n",
       "    }\n",
       "</style>\n",
       "<table border=\"1\" class=\"dataframe\">\n",
       "  <thead>\n",
       "    <tr style=\"text-align: right;\">\n",
       "      <th></th>\n",
       "      <th>Country</th>\n",
       "      <th>Code</th>\n",
       "      <th>Physicians (per 1,000 people)</th>\n",
       "      <th>2019 Happiness Score</th>\n",
       "    </tr>\n",
       "  </thead>\n",
       "  <tbody>\n",
       "    <tr>\n",
       "      <th>0</th>\n",
       "      <td>Afghanistan</td>\n",
       "      <td>AFG</td>\n",
       "      <td>0.302</td>\n",
       "      <td>3.203</td>\n",
       "    </tr>\n",
       "    <tr>\n",
       "      <th>1</th>\n",
       "      <td>Australia</td>\n",
       "      <td>AUS</td>\n",
       "      <td>3.496</td>\n",
       "      <td>7.228</td>\n",
       "    </tr>\n",
       "    <tr>\n",
       "      <th>2</th>\n",
       "      <td>Austria</td>\n",
       "      <td>AUT</td>\n",
       "      <td>5.150</td>\n",
       "      <td>7.246</td>\n",
       "    </tr>\n",
       "    <tr>\n",
       "      <th>3</th>\n",
       "      <td>Bahrain</td>\n",
       "      <td>BHR</td>\n",
       "      <td>0.922</td>\n",
       "      <td>6.199</td>\n",
       "    </tr>\n",
       "    <tr>\n",
       "      <th>4</th>\n",
       "      <td>Bangladesh</td>\n",
       "      <td>BGD</td>\n",
       "      <td>0.472</td>\n",
       "      <td>4.456</td>\n",
       "    </tr>\n",
       "  </tbody>\n",
       "</table>\n",
       "</div>"
      ],
      "text/plain": [
       "       Country Code  Physicians (per 1,000 people)  2019 Happiness Score\n",
       "0  Afghanistan  AFG                          0.302                 3.203\n",
       "1    Australia  AUS                          3.496                 7.228\n",
       "2      Austria  AUT                          5.150                 7.246\n",
       "3      Bahrain  BHR                          0.922                 6.199\n",
       "4   Bangladesh  BGD                          0.472                 4.456"
      ]
     },
     "execution_count": 20,
     "metadata": {},
     "output_type": "execute_result"
    }
   ],
   "source": [
    "#Merge doctor data with ISO codes\n",
    "happy = pd.merge(doctors2,iso,on='Code',how='inner')\n",
    "happy=happy.drop(['Country_y'],axis=1)\n",
    "happy=happy.rename(columns={'Country_x':'Country'})\n",
    "happy.head()"
   ]
  },
  {
   "cell_type": "code",
   "execution_count": 21,
   "metadata": {},
   "outputs": [
    {
     "data": {
      "text/html": [
       "<div>\n",
       "<style scoped>\n",
       "    .dataframe tbody tr th:only-of-type {\n",
       "        vertical-align: middle;\n",
       "    }\n",
       "\n",
       "    .dataframe tbody tr th {\n",
       "        vertical-align: top;\n",
       "    }\n",
       "\n",
       "    .dataframe thead th {\n",
       "        text-align: right;\n",
       "    }\n",
       "</style>\n",
       "<table border=\"1\" class=\"dataframe\">\n",
       "  <thead>\n",
       "    <tr style=\"text-align: right;\">\n",
       "      <th></th>\n",
       "      <th>Country</th>\n",
       "      <th>Code</th>\n",
       "      <th>Physicians (per 1,000 people)</th>\n",
       "      <th>2019 Happiness Score</th>\n",
       "    </tr>\n",
       "  </thead>\n",
       "  <tbody>\n",
       "    <tr>\n",
       "      <th>0</th>\n",
       "      <td>Afghanistan</td>\n",
       "      <td>AFG</td>\n",
       "      <td>0.302</td>\n",
       "      <td>3.203</td>\n",
       "    </tr>\n",
       "    <tr>\n",
       "      <th>1</th>\n",
       "      <td>Australia</td>\n",
       "      <td>AUS</td>\n",
       "      <td>3.496</td>\n",
       "      <td>7.228</td>\n",
       "    </tr>\n",
       "    <tr>\n",
       "      <th>2</th>\n",
       "      <td>Austria</td>\n",
       "      <td>AUT</td>\n",
       "      <td>5.150</td>\n",
       "      <td>7.246</td>\n",
       "    </tr>\n",
       "    <tr>\n",
       "      <th>3</th>\n",
       "      <td>Bahrain</td>\n",
       "      <td>BHR</td>\n",
       "      <td>0.922</td>\n",
       "      <td>6.199</td>\n",
       "    </tr>\n",
       "    <tr>\n",
       "      <th>4</th>\n",
       "      <td>Bangladesh</td>\n",
       "      <td>BGD</td>\n",
       "      <td>0.472</td>\n",
       "      <td>4.456</td>\n",
       "    </tr>\n",
       "  </tbody>\n",
       "</table>\n",
       "</div>"
      ],
      "text/plain": [
       "       Country Code  Physicians (per 1,000 people)  2019 Happiness Score\n",
       "0  Afghanistan  AFG                          0.302                 3.203\n",
       "1    Australia  AUS                          3.496                 7.228\n",
       "2      Austria  AUT                          5.150                 7.246\n",
       "3      Bahrain  BHR                          0.922                 6.199\n",
       "4   Bangladesh  BGD                          0.472                 4.456"
      ]
     },
     "execution_count": 21,
     "metadata": {},
     "output_type": "execute_result"
    }
   ],
   "source": [
    "#Select columns from happiness data\n",
    "happy15=happy15[['Country','Happiness Score']]\n",
    "happy.head()"
   ]
  },
  {
   "cell_type": "code",
   "execution_count": 22,
   "metadata": {},
   "outputs": [
    {
     "data": {
      "text/html": [
       "<div>\n",
       "<style scoped>\n",
       "    .dataframe tbody tr th:only-of-type {\n",
       "        vertical-align: middle;\n",
       "    }\n",
       "\n",
       "    .dataframe tbody tr th {\n",
       "        vertical-align: top;\n",
       "    }\n",
       "\n",
       "    .dataframe thead th {\n",
       "        text-align: right;\n",
       "    }\n",
       "</style>\n",
       "<table border=\"1\" class=\"dataframe\">\n",
       "  <thead>\n",
       "    <tr style=\"text-align: right;\">\n",
       "      <th></th>\n",
       "      <th>Country</th>\n",
       "      <th>Happiness Score</th>\n",
       "      <th>Code</th>\n",
       "      <th>Physicians (per 1,000 people)</th>\n",
       "      <th>2019 Happiness Score</th>\n",
       "    </tr>\n",
       "  </thead>\n",
       "  <tbody>\n",
       "    <tr>\n",
       "      <th>0</th>\n",
       "      <td>Switzerland</td>\n",
       "      <td>7.587</td>\n",
       "      <td>CHE</td>\n",
       "      <td>4.189</td>\n",
       "      <td>7.480</td>\n",
       "    </tr>\n",
       "    <tr>\n",
       "      <th>1</th>\n",
       "      <td>Iceland</td>\n",
       "      <td>7.561</td>\n",
       "      <td>ISL</td>\n",
       "      <td>3.791</td>\n",
       "      <td>7.494</td>\n",
       "    </tr>\n",
       "    <tr>\n",
       "      <th>2</th>\n",
       "      <td>Norway</td>\n",
       "      <td>7.522</td>\n",
       "      <td>NOR</td>\n",
       "      <td>4.385</td>\n",
       "      <td>7.554</td>\n",
       "    </tr>\n",
       "    <tr>\n",
       "      <th>3</th>\n",
       "      <td>Canada</td>\n",
       "      <td>7.427</td>\n",
       "      <td>CAN</td>\n",
       "      <td>2.539</td>\n",
       "      <td>7.278</td>\n",
       "    </tr>\n",
       "    <tr>\n",
       "      <th>4</th>\n",
       "      <td>Netherlands</td>\n",
       "      <td>7.378</td>\n",
       "      <td>NLD</td>\n",
       "      <td>3.478</td>\n",
       "      <td>7.488</td>\n",
       "    </tr>\n",
       "  </tbody>\n",
       "</table>\n",
       "</div>"
      ],
      "text/plain": [
       "       Country  Happiness Score Code  Physicians (per 1,000 people)  \\\n",
       "0  Switzerland            7.587  CHE                          4.189   \n",
       "1      Iceland            7.561  ISL                          3.791   \n",
       "2       Norway            7.522  NOR                          4.385   \n",
       "3       Canada            7.427  CAN                          2.539   \n",
       "4  Netherlands            7.378  NLD                          3.478   \n",
       "\n",
       "   2019 Happiness Score  \n",
       "0                 7.480  \n",
       "1                 7.494  \n",
       "2                 7.554  \n",
       "3                 7.278  \n",
       "4                 7.488  "
      ]
     },
     "execution_count": 22,
     "metadata": {},
     "output_type": "execute_result"
    }
   ],
   "source": [
    "happy_doctors = pd.merge(happy15, happy, on='Country', how='inner')\n",
    "happy_doctors.head()"
   ]
  },
  {
   "cell_type": "code",
   "execution_count": 23,
   "metadata": {},
   "outputs": [
    {
     "data": {
      "image/png": "[encoded data removed]",
      "text/plain": [
       "<Figure size 432x288 with 1 Axes>"
      ]
     },
     "metadata": {
      "needs_background": "light"
     },
     "output_type": "display_data"
    },
    {
     "name": "stdout",
     "output_type": "stream",
     "text": [
      "R-value: 0.6340425508209389, P-value: 7.68220536007851e-07\n"
     ]
    }
   ],
   "source": [
    "#Linear Regression!\n",
    "y_values=happy_doctors['Happiness Score']\n",
    "x_values=happy_doctors['Physicians (per 1,000 people)']\n",
    "\n",
    "(slope, intercept, rvalue, pvalue, stderr) = linregress(x_values, y_values)\n",
    "regress_values = x_values * slope + intercept\n",
    "line_eq = \"y = \" + str(round(slope,2)) + \"x + \" + str(round(intercept,2))\n",
    "plt.scatter(x_values,y_values)\n",
    "plt.plot(x_values,regress_values,\"r-\")\n",
    "plt.title('Happiness vs Access to Doctors (2015)')\n",
    "plt.xlabel('Physicians (per 1,000 people)')\n",
    "plt.ylabel('Happiness Score')\n",
    "r_value=(f\"r-value: {rvalue}\")\n",
    "p_value=(f\"p-value: {pvalue}\")\n",
    "plt.annotate(line_eq,(1.5,4),fontsize=15,color=\"red\")\n",
    "plt.annotate(r_value,(1.5,3.75),fontsize=12,color=\"red\")\n",
    "plt.annotate(p_value,(1.5,3.5),fontsize=12,color=\"red\")\n",
    "plt.grid()\n",
    "plt.savefig('Images/doctors.png')\n",
    "plt.show()\n",
    "print(f\"R-value: {rvalue}, P-value: {pvalue}\")"
   ]
  },
  {
   "cell_type": "code",
   "execution_count": 12,
   "metadata": {},
   "outputs": [
    {
     "data": {
      "text/plain": [
       "50"
      ]
     },
     "execution_count": 12,
     "metadata": {},
     "output_type": "execute_result"
    }
   ],
   "source": [
    "#Moderate positive correlation!\n"
   ]
  },
  {
   "cell_type": "code",
   "execution_count": 24,
   "metadata": {},
   "outputs": [
    {
     "data": {
      "text/html": [
       "<div>\n",
       "<style scoped>\n",
       "    .dataframe tbody tr th:only-of-type {\n",
       "        vertical-align: middle;\n",
       "    }\n",
       "\n",
       "    .dataframe tbody tr th {\n",
       "        vertical-align: top;\n",
       "    }\n",
       "\n",
       "    .dataframe thead th {\n",
       "        text-align: right;\n",
       "    }\n",
       "</style>\n",
       "<table border=\"1\" class=\"dataframe\">\n",
       "  <thead>\n",
       "    <tr style=\"text-align: right;\">\n",
       "      <th></th>\n",
       "      <th>pop_est</th>\n",
       "      <th>continent</th>\n",
       "      <th>name</th>\n",
       "      <th>Code</th>\n",
       "      <th>gdp_md_est</th>\n",
       "      <th>geometry</th>\n",
       "      <th>Country</th>\n",
       "      <th>Happiness Score</th>\n",
       "      <th>Physicians (per 1,000 people)</th>\n",
       "      <th>2019 Happiness Score</th>\n",
       "    </tr>\n",
       "  </thead>\n",
       "  <tbody>\n",
       "    <tr>\n",
       "      <th>0</th>\n",
       "      <td>35623680</td>\n",
       "      <td>North America</td>\n",
       "      <td>Canada</td>\n",
       "      <td>CAN</td>\n",
       "      <td>1674000.0</td>\n",
       "      <td>MULTIPOLYGON (((-122.840 49.000, -122.974 49.0...</td>\n",
       "      <td>Canada</td>\n",
       "      <td>7.427</td>\n",
       "      <td>2.539</td>\n",
       "      <td>7.278</td>\n",
       "    </tr>\n",
       "    <tr>\n",
       "      <th>1</th>\n",
       "      <td>142257519</td>\n",
       "      <td>Europe</td>\n",
       "      <td>Russia</td>\n",
       "      <td>RUS</td>\n",
       "      <td>3745000.0</td>\n",
       "      <td>MULTIPOLYGON (((178.725 71.099, 180.000 71.516...</td>\n",
       "      <td>Russia</td>\n",
       "      <td>5.716</td>\n",
       "      <td>3.975</td>\n",
       "      <td>5.648</td>\n",
       "    </tr>\n",
       "    <tr>\n",
       "      <th>2</th>\n",
       "      <td>54841552</td>\n",
       "      <td>Africa</td>\n",
       "      <td>South Africa</td>\n",
       "      <td>ZAF</td>\n",
       "      <td>739100.0</td>\n",
       "      <td>POLYGON ((16.345 -28.577, 16.824 -28.082, 17.2...</td>\n",
       "      <td>South Africa</td>\n",
       "      <td>4.642</td>\n",
       "      <td>0.767</td>\n",
       "      <td>4.722</td>\n",
       "    </tr>\n",
       "    <tr>\n",
       "      <th>3</th>\n",
       "      <td>124574795</td>\n",
       "      <td>North America</td>\n",
       "      <td>Mexico</td>\n",
       "      <td>MEX</td>\n",
       "      <td>2307000.0</td>\n",
       "      <td>POLYGON ((-117.128 32.535, -115.991 32.612, -1...</td>\n",
       "      <td>Mexico</td>\n",
       "      <td>7.187</td>\n",
       "      <td>2.231</td>\n",
       "      <td>6.595</td>\n",
       "    </tr>\n",
       "    <tr>\n",
       "      <th>4</th>\n",
       "      <td>2990561</td>\n",
       "      <td>North America</td>\n",
       "      <td>Jamaica</td>\n",
       "      <td>JAM</td>\n",
       "      <td>25390.0</td>\n",
       "      <td>POLYGON ((-77.570 18.491, -76.897 18.401, -76....</td>\n",
       "      <td>Jamaica</td>\n",
       "      <td>5.709</td>\n",
       "      <td>0.429</td>\n",
       "      <td>5.890</td>\n",
       "    </tr>\n",
       "  </tbody>\n",
       "</table>\n",
       "</div>"
      ],
      "text/plain": [
       "     pop_est      continent          name Code  gdp_md_est  \\\n",
       "0   35623680  North America        Canada  CAN   1674000.0   \n",
       "1  142257519         Europe        Russia  RUS   3745000.0   \n",
       "2   54841552         Africa  South Africa  ZAF    739100.0   \n",
       "3  124574795  North America        Mexico  MEX   2307000.0   \n",
       "4    2990561  North America       Jamaica  JAM     25390.0   \n",
       "\n",
       "                                            geometry       Country  \\\n",
       "0  MULTIPOLYGON (((-122.840 49.000, -122.974 49.0...        Canada   \n",
       "1  MULTIPOLYGON (((178.725 71.099, 180.000 71.516...        Russia   \n",
       "2  POLYGON ((16.345 -28.577, 16.824 -28.082, 17.2...  South Africa   \n",
       "3  POLYGON ((-117.128 32.535, -115.991 32.612, -1...        Mexico   \n",
       "4  POLYGON ((-77.570 18.491, -76.897 18.401, -76....       Jamaica   \n",
       "\n",
       "   Happiness Score  Physicians (per 1,000 people)  2019 Happiness Score  \n",
       "0            7.427                          2.539                 7.278  \n",
       "1            5.716                          3.975                 5.648  \n",
       "2            4.642                          0.767                 4.722  \n",
       "3            7.187                          2.231                 6.595  \n",
       "4            5.709                          0.429                 5.890  "
      ]
     },
     "execution_count": 24,
     "metadata": {},
     "output_type": "execute_result"
    }
   ],
   "source": [
    "#import dataset with geographic info to plot chorograph\n",
    "import geopandas \n",
    "\n",
    "world = geopandas.read_file(geopandas.datasets.get_path('naturalearth_lowres'))\n",
    "world = world.rename(columns={'iso_a3':'Code'}) \n",
    "world = pd.merge(world, happy_doctors, on='Code', how='inner')\n",
    "world.head()"
   ]
  },
  {
   "cell_type": "code",
   "execution_count": 25,
   "metadata": {},
   "outputs": [
    {
     "data": {
      "image/png": "[encoded data removed]",
      "text/plain": [
       "<Figure size 432x288 with 2 Axes>"
      ]
     },
     "metadata": {
      "needs_background": "light"
     },
     "output_type": "display_data"
    }
   ],
   "source": [
    "#Chorograph of Physician availability\n",
    "fig, ax = plt.subplots(1,1)\n",
    "world.plot(column='Physicians (per 1,000 people)', ax=ax, legend=True, cmap='plasma',\n",
    "           legend_kwds={'label': \"Physicians (per 1,000 people)\",'orientation': \"horizontal\"})\n",
    "plt.savefig('Images/physician_availability_map.png')"
   ]
  },
  {
   "cell_type": "code",
   "execution_count": 26,
   "metadata": {},
   "outputs": [
    {
     "data": {
      "image/png": "[encoded data removed]",
      "text/plain": [
       "<Figure size 432x288 with 2 Axes>"
      ]
     },
     "metadata": {
      "needs_background": "light"
     },
     "output_type": "display_data"
    }
   ],
   "source": [
    "#Chorograph of Physician availability\n",
    "fig, ax = plt.subplots(1,1)\n",
    "world.plot(column='Happiness Score', ax=ax, legend=True, cmap='plasma',\n",
    "           legend_kwds={'label': \"2015 Happiness Score\",'orientation': \"horizontal\"})\n",
    "plt.savefig('Images/2015_happiness_map.png')"
   ]
  },
  {
   "cell_type": "code",
   "execution_count": null,
   "metadata": {},
   "outputs": [],
   "source": []
  }
 ],
 "metadata": {
  "kernelspec": {
   "display_name": "Python 3",
   "language": "python",
   "name": "python3"
  },
  "language_info": {
   "codemirror_mode": {
    "name": "ipython",
    "version": 3
   },
   "file_extension": ".py",
   "mimetype": "text/x-python",
   "name": "python",
   "nbconvert_exporter": "python",
   "pygments_lexer": "ipython3",
   "version": "3.7.3"
  }
 },
 "nbformat": 4,
 "nbformat_minor": 2
}
